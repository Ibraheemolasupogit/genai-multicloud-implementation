{
 "cells": [
  {
   "cell_type": "markdown",
   "id": "f942b983-7941-44fe-be01-56eb2d1d204e",
   "metadata": {},
   "source": [
    "# using request "
   ]
  },
  {
   "cell_type": "code",
   "execution_count": 1,
   "id": "05b1a523-f9bf-4e9e-a4de-b4854db10edb",
   "metadata": {},
   "outputs": [],
   "source": [
    "import requests"
   ]
  },
  {
   "cell_type": "code",
   "execution_count": 2,
   "id": "9444a730-d8a7-41fb-b5fe-987197c22100",
   "metadata": {},
   "outputs": [],
   "source": [
    "url = \"http://localhost:11434/api/chat\""
   ]
  },
  {
   "cell_type": "code",
   "execution_count": 3,
   "id": "51e67406-28c6-4596-aa41-cbf3dc29ed20",
   "metadata": {},
   "outputs": [],
   "source": [
    "payload = {\n",
    "        \"model\": \"llama3.2:1b\",\n",
    "        \"messages\": [\n",
    "            {\n",
    "                \"role\": \"user\",\n",
    "                \"content\": \"What is capital of india?\"\n",
    "            }\n",
    "        ],\n",
    "        \"stream\": False\n",
    "    }"
   ]
  },
  {
   "cell_type": "code",
   "execution_count": 4,
   "id": "6afc27c0-90db-4d56-8e7c-13af88599e56",
   "metadata": {},
   "outputs": [],
   "source": [
    "res = requests.post(url, json=payload)"
   ]
  },
  {
   "cell_type": "code",
   "execution_count": 5,
   "id": "367ade99-2b0b-47f1-a4c5-17fbe23e70f0",
   "metadata": {},
   "outputs": [
    {
     "data": {
      "text/plain": [
       "<Response [200]>"
      ]
     },
     "execution_count": 5,
     "metadata": {},
     "output_type": "execute_result"
    }
   ],
   "source": [
    "res"
   ]
  },
  {
   "cell_type": "code",
   "execution_count": 6,
   "id": "b047f7cb-d06f-4876-8083-3e62dd875a4d",
   "metadata": {},
   "outputs": [
    {
     "data": {
      "text/plain": [
       "{'model': 'llama3.2:1b',\n",
       " 'created_at': '2025-01-12T09:07:44.5240993Z',\n",
       " 'message': {'role': 'assistant',\n",
       "  'content': 'The capital of India is New Delhi.'},\n",
       " 'done_reason': 'stop',\n",
       " 'done': True,\n",
       " 'total_duration': 3145561500,\n",
       " 'load_duration': 1577923700,\n",
       " 'prompt_eval_count': 31,\n",
       " 'prompt_eval_duration': 691000000,\n",
       " 'eval_count': 9,\n",
       " 'eval_duration': 874000000}"
      ]
     },
     "execution_count": 6,
     "metadata": {},
     "output_type": "execute_result"
    }
   ],
   "source": [
    "res.json()"
   ]
  },
  {
   "cell_type": "code",
   "execution_count": 8,
   "id": "1bb12bb8-61e9-4ae0-ae6d-52d51917f092",
   "metadata": {},
   "outputs": [
    {
     "data": {
      "text/plain": [
       "'The capital of India is New Delhi.'"
      ]
     },
     "execution_count": 8,
     "metadata": {},
     "output_type": "execute_result"
    }
   ],
   "source": [
    "res.json()[\"message\"][\"content\"]"
   ]
  },
  {
   "cell_type": "markdown",
   "id": "4453e8bb-4450-4363-bf37-d3353f8c0b5d",
   "metadata": {},
   "source": [
    "# ollama python sdk"
   ]
  },
  {
   "cell_type": "code",
   "execution_count": 9,
   "id": "f74f05d6-1e82-49b0-b136-75d9e9f095d0",
   "metadata": {},
   "outputs": [],
   "source": [
    "import ollama"
   ]
  },
  {
   "cell_type": "code",
   "execution_count": 10,
   "id": "4f6af77c-ad78-4a6e-96e2-ecb51fd3163c",
   "metadata": {},
   "outputs": [],
   "source": [
    "response = ollama.chat(model='llama3.2:1b',\n",
    "            messages=[\n",
    "                {\n",
    "                    'role': 'user',\n",
    "                    'content': \"What is 2+6?\"\n",
    "                }\n",
    "            ])"
   ]
  },
  {
   "cell_type": "code",
   "execution_count": 11,
   "id": "815545d8-551b-40b2-a4aa-995c7ff666f6",
   "metadata": {},
   "outputs": [
    {
     "data": {
      "text/plain": [
       "ChatResponse(model='llama3.2:1b', created_at='2025-01-12T09:10:37.468787Z', done=True, done_reason='stop', total_duration=1007188300, load_duration=35922100, prompt_eval_count=32, prompt_eval_duration=258000000, eval_count=9, eval_duration=712000000, message=Message(role='assistant', content='2 + 6 = 8.', images=None, tool_calls=None))"
      ]
     },
     "execution_count": 11,
     "metadata": {},
     "output_type": "execute_result"
    }
   ],
   "source": [
    "response"
   ]
  },
  {
   "cell_type": "code",
   "execution_count": 12,
   "id": "fed59a34-5d8e-43cc-a61a-e414cdd40137",
   "metadata": {},
   "outputs": [
    {
     "data": {
      "text/plain": [
       "'2 + 6 = 8.'"
      ]
     },
     "execution_count": 12,
     "metadata": {},
     "output_type": "execute_result"
    }
   ],
   "source": [
    "response[\"message\"][\"content\"]"
   ]
  },
  {
   "cell_type": "markdown",
   "id": "c47c2912-3e80-4cf4-bf97-6bc3f67d8d6c",
   "metadata": {},
   "source": [
    "# with curl "
   ]
  },
  {
   "cell_type": "markdown",
   "id": "8649a1d5-a8e7-489a-8862-a1e2ff106fb4",
   "metadata": {},
   "source": [
    "curl http://localhost:11434/api/generate -d \"{\\\"model\\\": \\\"llama3.2:1b\\\",\\\"prompt\\\":\\\"Why is the sky blue?\\\"}\"\n",
    "\n",
    "\n",
    "curl http://localhost:11434/api/generate -d \"{\\\"model\\\": \\\"llama3.2:1b\\\",\\\"messages\\\": [{ \\\"role\\\": \\\"user\\\", \\\"content\\\": \\\"What is capital of india?\\\" }]}\""
   ]
  },
  {
   "cell_type": "code",
   "execution_count": null,
   "id": "89b8bd4e-c15e-421c-9aef-e0982d510aec",
   "metadata": {},
   "outputs": [],
   "source": []
  }
 ],
 "metadata": {
  "kernelspec": {
   "display_name": "Python 3 (ipykernel)",
   "language": "python",
   "name": "python3"
  },
  "language_info": {
   "codemirror_mode": {
    "name": "ipython",
    "version": 3
   },
   "file_extension": ".py",
   "mimetype": "text/x-python",
   "name": "python",
   "nbconvert_exporter": "python",
   "pygments_lexer": "ipython3",
   "version": "3.9.21"
  }
 },
 "nbformat": 4,
 "nbformat_minor": 5
}
