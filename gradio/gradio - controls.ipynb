{
 "cells": [
  {
   "cell_type": "code",
   "execution_count": 2,
   "id": "500d47ca-099f-40eb-b519-0303a62cb311",
   "metadata": {},
   "outputs": [
    {
     "name": "stdout",
     "output_type": "stream",
     "text": [
      "Running on local URL:  http://127.0.0.1:7862\n",
      "Running on public URL: https://da4660c88e6908cd4d.gradio.live\n",
      "\n",
      "This share link expires in 72 hours. For free permanent hosting and GPU upgrades, run `gradio deploy` from Terminal to deploy to Spaces (https://huggingface.co/spaces)\n"
     ]
    },
    {
     "data": {
      "text/html": [
       "<div><iframe src=\"https://da4660c88e6908cd4d.gradio.live\" width=\"100%\" height=\"500\" allow=\"autoplay; camera; microphone; clipboard-read; clipboard-write;\" frameborder=\"0\" allowfullscreen></iframe></div>"
      ],
      "text/plain": [
       "<IPython.core.display.HTML object>"
      ]
     },
     "metadata": {},
     "output_type": "display_data"
    },
    {
     "data": {
      "text/plain": []
     },
     "execution_count": 2,
     "metadata": {},
     "output_type": "execute_result"
    }
   ],
   "source": [
    "# Example 1: TextBox Control\n",
    "# A simple application that takes a user's name as input and greets them.\n",
    "import gradio as gr\n",
    "\n",
    "def greet(name):\n",
    "    return f\"Hello, {name}!\"\n",
    "\n",
    "demo = gr.Interface(fn=greet, inputs=gr.Textbox(label=\"Enter your name\"), outputs=gr.Text(label=\"Greeting\"))\n",
    "demo.launch(share=True)"
   ]
  },
  {
   "cell_type": "code",
   "execution_count": 3,
   "id": "f206afbc-685c-40ac-bc36-665d736db2f3",
   "metadata": {},
   "outputs": [
    {
     "name": "stdout",
     "output_type": "stream",
     "text": [
      "Running on local URL:  http://127.0.0.1:7863\n",
      "\n",
      "To create a public link, set `share=True` in `launch()`.\n"
     ]
    },
    {
     "data": {
      "text/html": [
       "<div><iframe src=\"http://127.0.0.1:7863/\" width=\"100%\" height=\"500\" allow=\"autoplay; camera; microphone; clipboard-read; clipboard-write;\" frameborder=\"0\" allowfullscreen></iframe></div>"
      ],
      "text/plain": [
       "<IPython.core.display.HTML object>"
      ]
     },
     "metadata": {},
     "output_type": "display_data"
    },
    {
     "data": {
      "text/plain": []
     },
     "execution_count": 3,
     "metadata": {},
     "output_type": "execute_result"
    }
   ],
   "source": [
    "# Example 2: Number Control\n",
    "# A simple application that doubles the input number.\n",
    "import gradio as gr\n",
    "\n",
    "def double_number(number):\n",
    "    return number * 2\n",
    "\n",
    "demo = gr.Interface(fn=double_number, inputs=gr.Number(label=\"Enter a number\"), outputs=gr.Number(label=\"Doubled Value\"))\n",
    "demo.launch()"
   ]
  },
  {
   "cell_type": "code",
   "execution_count": 4,
   "id": "8b6a068e-1c1b-4d03-abbd-66428946fa8b",
   "metadata": {},
   "outputs": [
    {
     "name": "stdout",
     "output_type": "stream",
     "text": [
      "Running on local URL:  http://127.0.0.1:7864\n",
      "\n",
      "To create a public link, set `share=True` in `launch()`.\n"
     ]
    },
    {
     "data": {
      "text/html": [
       "<div><iframe src=\"http://127.0.0.1:7864/\" width=\"100%\" height=\"500\" allow=\"autoplay; camera; microphone; clipboard-read; clipboard-write;\" frameborder=\"0\" allowfullscreen></iframe></div>"
      ],
      "text/plain": [
       "<IPython.core.display.HTML object>"
      ]
     },
     "metadata": {},
     "output_type": "display_data"
    },
    {
     "data": {
      "text/plain": []
     },
     "execution_count": 4,
     "metadata": {},
     "output_type": "execute_result"
    }
   ],
   "source": [
    "# Example 3: Slider Control\n",
    "# A slider-based application that multiplies the selected value by 2.\n",
    "import gradio as gr\n",
    "\n",
    "def multiply_by_slider(value):\n",
    "    return value * 2\n",
    "\n",
    "demo = gr.Interface(fn=multiply_by_slider, inputs=gr.Slider(1, 100, label=\"Select a value\"), outputs=gr.Number(label=\"Result\"))\n",
    "demo.launch()"
   ]
  },
  {
   "cell_type": "code",
   "execution_count": 5,
   "id": "11d481d9-12f4-44d1-9fa7-fd77eca85a4e",
   "metadata": {},
   "outputs": [
    {
     "name": "stdout",
     "output_type": "stream",
     "text": [
      "Running on local URL:  http://127.0.0.1:7865\n",
      "\n",
      "To create a public link, set `share=True` in `launch()`.\n"
     ]
    },
    {
     "data": {
      "text/html": [
       "<div><iframe src=\"http://127.0.0.1:7865/\" width=\"100%\" height=\"500\" allow=\"autoplay; camera; microphone; clipboard-read; clipboard-write;\" frameborder=\"0\" allowfullscreen></iframe></div>"
      ],
      "text/plain": [
       "<IPython.core.display.HTML object>"
      ]
     },
     "metadata": {},
     "output_type": "display_data"
    },
    {
     "data": {
      "text/plain": []
     },
     "execution_count": 5,
     "metadata": {},
     "output_type": "execute_result"
    }
   ],
   "source": [
    "# Example 4: Checkbox Control\n",
    "# A checkbox-based application that displays whether the checkbox is checked or not.\n",
    "import gradio as gr\n",
    "\n",
    "def check(value):\n",
    "    return \"Checked\" if value else \"Not Checked\"\n",
    "\n",
    "demo = gr.Interface(fn=check, inputs=gr.Checkbox(label=\"Check me\"), outputs=gr.Text(label=\"Status\"))\n",
    "demo.launch()"
   ]
  },
  {
   "cell_type": "code",
   "execution_count": 6,
   "id": "d4f7e359-a001-4da2-baa2-a7cc66a338cf",
   "metadata": {},
   "outputs": [
    {
     "name": "stdout",
     "output_type": "stream",
     "text": [
      "Running on local URL:  http://127.0.0.1:7866\n",
      "\n",
      "To create a public link, set `share=True` in `launch()`.\n"
     ]
    },
    {
     "data": {
      "text/html": [
       "<div><iframe src=\"http://127.0.0.1:7866/\" width=\"100%\" height=\"500\" allow=\"autoplay; camera; microphone; clipboard-read; clipboard-write;\" frameborder=\"0\" allowfullscreen></iframe></div>"
      ],
      "text/plain": [
       "<IPython.core.display.HTML object>"
      ]
     },
     "metadata": {},
     "output_type": "display_data"
    },
    {
     "data": {
      "text/plain": []
     },
     "execution_count": 6,
     "metadata": {},
     "output_type": "execute_result"
    }
   ],
   "source": [
    "# Example 5: Radio Control\n",
    "# A radio button-based application that displays the selected option.\n",
    "import gradio as gr\n",
    "\n",
    "def select_option(option):\n",
    "    return f\"You selected: {option}\"\n",
    "\n",
    "demo = gr.Interface(fn=select_option, inputs=gr.Radio([\"Option 1\", \"Option 2\"], label=\"Pick an option\"), outputs=gr.Text(label=\"Selected Option\"))\n",
    "demo.launch()"
   ]
  },
  {
   "cell_type": "code",
   "execution_count": 7,
   "id": "27bc0a82-45e5-42a7-bd94-6f953c82c390",
   "metadata": {},
   "outputs": [
    {
     "name": "stdout",
     "output_type": "stream",
     "text": [
      "Running on local URL:  http://127.0.0.1:7867\n",
      "\n",
      "To create a public link, set `share=True` in `launch()`.\n"
     ]
    },
    {
     "data": {
      "text/html": [
       "<div><iframe src=\"http://127.0.0.1:7867/\" width=\"100%\" height=\"500\" allow=\"autoplay; camera; microphone; clipboard-read; clipboard-write;\" frameborder=\"0\" allowfullscreen></iframe></div>"
      ],
      "text/plain": [
       "<IPython.core.display.HTML object>"
      ]
     },
     "metadata": {},
     "output_type": "display_data"
    },
    {
     "data": {
      "text/plain": []
     },
     "execution_count": 7,
     "metadata": {},
     "output_type": "execute_result"
    }
   ],
   "source": [
    "# Example 6: Dropdown Control\n",
    "# A dropdown-based application that displays the selected item.\n",
    "import gradio as gr\n",
    "\n",
    "def select_item(item):\n",
    "    return f\"You chose: {item}\"\n",
    "\n",
    "demo = gr.Interface(fn=select_item, inputs=gr.Dropdown([\"Item 1\", \"Item 2\", \"Item 3\"], label=\"Select an item\"), outputs=gr.Text(label=\"Chosen Item\"))\n",
    "demo.launch()\n"
   ]
  },
  {
   "cell_type": "code",
   "execution_count": 8,
   "id": "591ce2f2-304d-4e59-99b4-3c6ed1445c6d",
   "metadata": {},
   "outputs": [
    {
     "name": "stdout",
     "output_type": "stream",
     "text": [
      "Running on local URL:  http://127.0.0.1:7868\n",
      "\n",
      "To create a public link, set `share=True` in `launch()`.\n"
     ]
    },
    {
     "data": {
      "text/html": [
       "<div><iframe src=\"http://127.0.0.1:7868/\" width=\"100%\" height=\"500\" allow=\"autoplay; camera; microphone; clipboard-read; clipboard-write;\" frameborder=\"0\" allowfullscreen></iframe></div>"
      ],
      "text/plain": [
       "<IPython.core.display.HTML object>"
      ]
     },
     "metadata": {},
     "output_type": "display_data"
    },
    {
     "data": {
      "text/plain": []
     },
     "execution_count": 8,
     "metadata": {},
     "output_type": "execute_result"
    }
   ],
   "source": [
    "# Example 7: Image Control\n",
    "# An application that displays the uploaded image.\n",
    "import gradio as gr\n",
    "\n",
    "def display_image(image):\n",
    "    return image\n",
    "\n",
    "demo = gr.Interface(fn=display_image, inputs=gr.Image(label=\"Upload an image\"), outputs=gr.Image(label=\"Displayed Image\"))\n",
    "demo.launch()"
   ]
  },
  {
   "cell_type": "code",
   "execution_count": 9,
   "id": "22de2154-63b5-4209-ae4a-06e195f91f5c",
   "metadata": {},
   "outputs": [
    {
     "name": "stdout",
     "output_type": "stream",
     "text": [
      "Running on local URL:  http://127.0.0.1:7869\n",
      "\n",
      "To create a public link, set `share=True` in `launch()`.\n"
     ]
    },
    {
     "data": {
      "text/html": [
       "<div><iframe src=\"http://127.0.0.1:7869/\" width=\"100%\" height=\"500\" allow=\"autoplay; camera; microphone; clipboard-read; clipboard-write;\" frameborder=\"0\" allowfullscreen></iframe></div>"
      ],
      "text/plain": [
       "<IPython.core.display.HTML object>"
      ]
     },
     "metadata": {},
     "output_type": "display_data"
    },
    {
     "data": {
      "text/plain": []
     },
     "execution_count": 9,
     "metadata": {},
     "output_type": "execute_result"
    }
   ],
   "source": [
    "# Example 8: Video Control\n",
    "# An application that plays the uploaded video.\n",
    "import gradio as gr\n",
    "\n",
    "def process_video(video):\n",
    "    return video\n",
    "\n",
    "demo = gr.Interface(fn=process_video, inputs=gr.Video(label=\"Upload a video\"), outputs=gr.Video(label=\"Processed Video\"))\n",
    "demo.launch()"
   ]
  },
  {
   "cell_type": "code",
   "execution_count": 10,
   "id": "dbfa78c9-d486-4b6d-93a9-92fef0a5d15e",
   "metadata": {},
   "outputs": [
    {
     "name": "stdout",
     "output_type": "stream",
     "text": [
      "Running on local URL:  http://127.0.0.1:7870\n",
      "\n",
      "To create a public link, set `share=True` in `launch()`.\n"
     ]
    },
    {
     "data": {
      "text/html": [
       "<div><iframe src=\"http://127.0.0.1:7870/\" width=\"100%\" height=\"500\" allow=\"autoplay; camera; microphone; clipboard-read; clipboard-write;\" frameborder=\"0\" allowfullscreen></iframe></div>"
      ],
      "text/plain": [
       "<IPython.core.display.HTML object>"
      ]
     },
     "metadata": {},
     "output_type": "display_data"
    },
    {
     "data": {
      "text/plain": []
     },
     "execution_count": 10,
     "metadata": {},
     "output_type": "execute_result"
    }
   ],
   "source": [
    "\n",
    "# Example 9: Audio Control\n",
    "# An application that plays the uploaded audio file.\n",
    "import gradio as gr\n",
    "\n",
    "def process_audio(audio):\n",
    "    return audio\n",
    "\n",
    "demo = gr.Interface(fn=process_audio, inputs=gr.Audio(label=\"Upload or record audio\"), outputs=gr.Audio(label=\"Processed Audio\"))\n",
    "demo.launch()"
   ]
  },
  {
   "cell_type": "code",
   "execution_count": 11,
   "id": "36027753-29ed-4023-8bec-b770ccc04b7e",
   "metadata": {},
   "outputs": [
    {
     "name": "stdout",
     "output_type": "stream",
     "text": [
      "Running on local URL:  http://127.0.0.1:7871\n",
      "\n",
      "To create a public link, set `share=True` in `launch()`.\n"
     ]
    },
    {
     "data": {
      "text/html": [
       "<div><iframe src=\"http://127.0.0.1:7871/\" width=\"100%\" height=\"500\" allow=\"autoplay; camera; microphone; clipboard-read; clipboard-write;\" frameborder=\"0\" allowfullscreen></iframe></div>"
      ],
      "text/plain": [
       "<IPython.core.display.HTML object>"
      ]
     },
     "metadata": {},
     "output_type": "display_data"
    },
    {
     "data": {
      "text/plain": []
     },
     "execution_count": 11,
     "metadata": {},
     "output_type": "execute_result"
    }
   ],
   "source": [
    "# Example 10: File Control\n",
    "# An application that displays the name of the uploaded file.\n",
    "import gradio as gr\n",
    "\n",
    "def show_file_details(file):\n",
    "    return f\"Uploaded file: {file.name}\"\n",
    "\n",
    "demo = gr.Interface(fn=show_file_details, inputs=gr.File(label=\"Upload a file\"), outputs=gr.Text(label=\"File Details\"))\n",
    "demo.launch()"
   ]
  },
  {
   "cell_type": "code",
   "execution_count": 12,
   "id": "0eb4a9d4-14f9-48af-bbab-9254aace5a3b",
   "metadata": {},
   "outputs": [
    {
     "name": "stdout",
     "output_type": "stream",
     "text": [
      "Running on local URL:  http://127.0.0.1:7872\n",
      "\n",
      "To create a public link, set `share=True` in `launch()`.\n"
     ]
    },
    {
     "data": {
      "text/html": [
       "<div><iframe src=\"http://127.0.0.1:7872/\" width=\"100%\" height=\"500\" allow=\"autoplay; camera; microphone; clipboard-read; clipboard-write;\" frameborder=\"0\" allowfullscreen></iframe></div>"
      ],
      "text/plain": [
       "<IPython.core.display.HTML object>"
      ]
     },
     "metadata": {},
     "output_type": "display_data"
    },
    {
     "data": {
      "text/plain": []
     },
     "execution_count": 12,
     "metadata": {},
     "output_type": "execute_result"
    }
   ],
   "source": [
    "import gradio as gr\n",
    "import json\n",
    "\n",
    "# Function to process JSON input\n",
    "def process_json(json_data):\n",
    "    try:\n",
    "        # Parse the input as JSON\n",
    "        parsed_data = json.loads(json_data)\n",
    "        return {\"Received Data\": parsed_data}\n",
    "    except json.JSONDecodeError:\n",
    "        # Handle invalid JSON\n",
    "        return {\"error\": \"Invalid JSON format. Please provide valid JSON.\"}\n",
    "\n",
    "# Gradio Interface\n",
    "demo = gr.Interface(\n",
    "    fn=process_json,\n",
    "    inputs=gr.Textbox(label=\"Input JSON (e.g., {'key': 'value'})\", lines=5, placeholder=\"Enter valid JSON here\"),\n",
    "    outputs=gr.JSON(label=\"Processed JSON\")\n",
    ")\n",
    "\n",
    "# Launch the application\n",
    "demo.launch()"
   ]
  },
  {
   "cell_type": "code",
   "execution_count": 13,
   "id": "07d84b9e-2ea4-439e-8071-8df076f5c451",
   "metadata": {
    "scrolled": true
   },
   "outputs": [
    {
     "name": "stdout",
     "output_type": "stream",
     "text": [
      "Running on local URL:  http://127.0.0.1:7873\n",
      "\n",
      "To create a public link, set `share=True` in `launch()`.\n"
     ]
    },
    {
     "data": {
      "text/html": [
       "<div><iframe src=\"http://127.0.0.1:7873/\" width=\"100%\" height=\"500\" allow=\"autoplay; camera; microphone; clipboard-read; clipboard-write;\" frameborder=\"0\" allowfullscreen></iframe></div>"
      ],
      "text/plain": [
       "<IPython.core.display.HTML object>"
      ]
     },
     "metadata": {},
     "output_type": "display_data"
    },
    {
     "data": {
      "text/plain": []
     },
     "execution_count": 13,
     "metadata": {},
     "output_type": "execute_result"
    }
   ],
   "source": [
    "# Controls in a Row\n",
    "\n",
    "import gradio as gr\n",
    "\n",
    "with gr.Blocks() as demo:\n",
    "    with gr.Row():\n",
    "        textbox = gr.Textbox(label=\"Text Input\")\n",
    "        slider = gr.Slider(0, 100, label=\"Slider\")\n",
    "        checkbox = gr.Checkbox(label=\"Checkbox\")\n",
    "    \n",
    "    output = gr.Text(label=\"Output\")\n",
    "    \n",
    "    def process_inputs(text, slider_value, checkbox_value):\n",
    "        return f\"Text: {text}, Slider: {slider_value}, Checkbox: {'Checked' if checkbox_value else 'Unchecked'}\"\n",
    "    \n",
    "    submit_button = gr.Button(\"Submit\")\n",
    "    submit_button.click(process_inputs, inputs=[textbox, slider, checkbox], outputs=output)\n",
    "\n",
    "demo.launch()"
   ]
  },
  {
   "cell_type": "code",
   "execution_count": 14,
   "id": "11f769d4-baff-4780-a4e7-f530da35c6f9",
   "metadata": {},
   "outputs": [
    {
     "name": "stdout",
     "output_type": "stream",
     "text": [
      "Running on local URL:  http://127.0.0.1:7874\n",
      "\n",
      "To create a public link, set `share=True` in `launch()`.\n"
     ]
    },
    {
     "data": {
      "text/html": [
       "<div><iframe src=\"http://127.0.0.1:7874/\" width=\"100%\" height=\"500\" allow=\"autoplay; camera; microphone; clipboard-read; clipboard-write;\" frameborder=\"0\" allowfullscreen></iframe></div>"
      ],
      "text/plain": [
       "<IPython.core.display.HTML object>"
      ]
     },
     "metadata": {},
     "output_type": "display_data"
    },
    {
     "data": {
      "text/plain": []
     },
     "execution_count": 14,
     "metadata": {},
     "output_type": "execute_result"
    }
   ],
   "source": [
    "# Controls in a Row\n",
    "\n",
    "import gradio as gr\n",
    "\n",
    "with gr.Blocks() as demo:\n",
    "    with gr.Column():\n",
    "        textbox = gr.Textbox(label=\"Text Input\")\n",
    "        slider = gr.Slider(0, 100, label=\"Slider\")\n",
    "        checkbox = gr.Checkbox(label=\"Checkbox\")\n",
    "    \n",
    "    output = gr.Text(label=\"Output\")\n",
    "    \n",
    "    def process_inputs(text, slider_value, checkbox_value):\n",
    "        return f\"Text: {text}, Slider: {slider_value}, Checkbox: {'Checked' if checkbox_value else 'Unchecked'}\"\n",
    "    \n",
    "    submit_button = gr.Button(\"Submit\")\n",
    "    submit_button.click(process_inputs, inputs=[textbox, slider, checkbox], outputs=output)\n",
    "\n",
    "demo.launch()"
   ]
  },
  {
   "cell_type": "code",
   "execution_count": null,
   "id": "5a60fcfd-6012-4c5f-91c6-1a7cb1ef84ed",
   "metadata": {},
   "outputs": [],
   "source": []
  },
  {
   "cell_type": "code",
   "execution_count": 15,
   "id": "ddff7e73-78da-4bf4-918b-a52d45aafe6a",
   "metadata": {
    "scrolled": true
   },
   "outputs": [
    {
     "name": "stdout",
     "output_type": "stream",
     "text": [
      "Running on local URL:  http://127.0.0.1:7875\n",
      "\n",
      "To create a public link, set `share=True` in `launch()`.\n"
     ]
    },
    {
     "data": {
      "text/html": [
       "<div><iframe src=\"http://127.0.0.1:7875/\" width=\"100%\" height=\"500\" allow=\"autoplay; camera; microphone; clipboard-read; clipboard-write;\" frameborder=\"0\" allowfullscreen></iframe></div>"
      ],
      "text/plain": [
       "<IPython.core.display.HTML object>"
      ]
     },
     "metadata": {},
     "output_type": "display_data"
    },
    {
     "data": {
      "text/plain": []
     },
     "execution_count": 15,
     "metadata": {},
     "output_type": "execute_result"
    }
   ],
   "source": [
    "# Mixed Rows and Columns\n",
    "\n",
    "import gradio as gr\n",
    "\n",
    "with gr.Blocks() as demo:\n",
    "    with gr.Row():\n",
    "        with gr.Column():\n",
    "            textbox = gr.Textbox(label=\"Enter text\")\n",
    "            slider = gr.Slider(0, 50, label=\"Select a number\")\n",
    "        with gr.Column():\n",
    "            checkbox = gr.Checkbox(label=\"Checkbox\")\n",
    "            radio = gr.Radio([\"Option 1\", \"Option 2\"], label=\"Choose an option\")\n",
    "    \n",
    "    output = gr.Text(label=\"Result\")\n",
    "    \n",
    "    def process_inputs(text, slider_value, checkbox_value, radio_value):\n",
    "        return f\"Text: {text}, Slider: {slider_value}, Checkbox: {'Checked' if checkbox_value else 'Unchecked'}, Radio: {radio_value}\"\n",
    "    \n",
    "    submit_button = gr.Button(\"Submit\")\n",
    "    submit_button.click(process_inputs, inputs=[textbox, slider, checkbox, radio], outputs=output)\n",
    "\n",
    "demo.launch()"
   ]
  },
  {
   "cell_type": "code",
   "execution_count": 16,
   "id": "7bc0ed6d-16f0-4047-90f2-b57b535d061a",
   "metadata": {},
   "outputs": [
    {
     "name": "stdout",
     "output_type": "stream",
     "text": [
      "Running on local URL:  http://127.0.0.1:7876\n",
      "\n",
      "To create a public link, set `share=True` in `launch()`.\n"
     ]
    },
    {
     "data": {
      "text/html": [
       "<div><iframe src=\"http://127.0.0.1:7876/\" width=\"100%\" height=\"500\" allow=\"autoplay; camera; microphone; clipboard-read; clipboard-write;\" frameborder=\"0\" allowfullscreen></iframe></div>"
      ],
      "text/plain": [
       "<IPython.core.display.HTML object>"
      ]
     },
     "metadata": {},
     "output_type": "display_data"
    },
    {
     "data": {
      "text/plain": []
     },
     "execution_count": 16,
     "metadata": {},
     "output_type": "execute_result"
    }
   ],
   "source": [
    "# Chained Inputs and Outputs Example\n",
    "\n",
    "import gradio as gr\n",
    "\n",
    "def step1_reverse_text(text):\n",
    "    \"\"\"Reverses the input text.\"\"\"\n",
    "    return text[::-1]\n",
    "\n",
    "def step2_to_uppercase(reversed_text):\n",
    "    \"\"\"Converts the reversed text to uppercase.\"\"\"\n",
    "    return reversed_text.upper()\n",
    "\n",
    "def step3_add_prefix(uppercased_text):\n",
    "    \"\"\"Adds a prefix to the processed text.\"\"\"\n",
    "    return f\"Final Result: {uppercased_text}\"\n",
    "\n",
    "with gr.Blocks() as demo:\n",
    "    # Input Section\n",
    "    with gr.Row():\n",
    "        text_input = gr.Textbox(label=\"Input Text\", placeholder=\"Enter some text\")\n",
    "\n",
    "    # Intermediate Output Section\n",
    "    with gr.Row():\n",
    "        output1 = gr.Textbox(label=\"Reversed Text\")\n",
    "        output2 = gr.Textbox(label=\"Uppercased Text\")\n",
    "        output3 = gr.Textbox(label=\"Final Processed Text\")\n",
    "\n",
    "    # Defining the chaining logic\n",
    "    text_input.change(step1_reverse_text, inputs=text_input, outputs=output1)\n",
    "    output1.change(step2_to_uppercase, inputs=output1, outputs=output2)\n",
    "    output2.change(step3_add_prefix, inputs=output2, outputs=output3)\n",
    "\n",
    "demo.launch()"
   ]
  },
  {
   "cell_type": "code",
   "execution_count": null,
   "id": "cd5c110f-56ca-4bff-8913-89a3f6539867",
   "metadata": {},
   "outputs": [],
   "source": []
  },
  {
   "cell_type": "code",
   "execution_count": 17,
   "id": "1c73a357-b891-44ee-9bb0-011deaeea51a",
   "metadata": {},
   "outputs": [
    {
     "name": "stdout",
     "output_type": "stream",
     "text": [
      "Running on local URL:  http://127.0.0.1:7877\n",
      "\n",
      "To create a public link, set `share=True` in `launch()`.\n"
     ]
    },
    {
     "data": {
      "text/html": [
       "<div><iframe src=\"http://127.0.0.1:7877/\" width=\"100%\" height=\"500\" allow=\"autoplay; camera; microphone; clipboard-read; clipboard-write;\" frameborder=\"0\" allowfullscreen></iframe></div>"
      ],
      "text/plain": [
       "<IPython.core.display.HTML object>"
      ]
     },
     "metadata": {},
     "output_type": "display_data"
    },
    {
     "data": {
      "text/plain": []
     },
     "execution_count": 17,
     "metadata": {},
     "output_type": "execute_result"
    }
   ],
   "source": [
    "# Tabbed Layout Example\n",
    "\n",
    "import gradio as gr\n",
    "\n",
    "with gr.Blocks() as demo:\n",
    "    with gr.Tab(\"Tab 1\"):\n",
    "        gr.Textbox(label=\"Input for Tab 1\")\n",
    "    with gr.Tab(\"Tab 2\"):\n",
    "        gr.Textbox(label=\"Input for Tab 2\")\n",
    "\n",
    "demo.launch()"
   ]
  },
  {
   "cell_type": "code",
   "execution_count": 18,
   "id": "ccd98f32-07b6-41e8-9feb-9975946a1b25",
   "metadata": {},
   "outputs": [
    {
     "name": "stdout",
     "output_type": "stream",
     "text": [
      "Running on local URL:  http://127.0.0.1:7878\n",
      "\n",
      "To create a public link, set `share=True` in `launch()`.\n"
     ]
    },
    {
     "data": {
      "text/html": [
       "<div><iframe src=\"http://127.0.0.1:7878/\" width=\"100%\" height=\"500\" allow=\"autoplay; camera; microphone; clipboard-read; clipboard-write;\" frameborder=\"0\" allowfullscreen></iframe></div>"
      ],
      "text/plain": [
       "<IPython.core.display.HTML object>"
      ]
     },
     "metadata": {},
     "output_type": "display_data"
    },
    {
     "data": {
      "text/plain": []
     },
     "execution_count": 18,
     "metadata": {},
     "output_type": "execute_result"
    }
   ],
   "source": [
    "# Chatbot Example\n",
    "\n",
    "import gradio as gr\n",
    "\n",
    "def chatbot_response(message, history):\n",
    "    history.append((message, f\"Bot: {message[::-1]}\"))  # Example: Reverse the text\n",
    "    return history, history\n",
    "\n",
    "with gr.Blocks() as demo:\n",
    "    chatbot = gr.Chatbot(label=\"Chat with Bot\")\n",
    "    text_input = gr.Textbox(label=\"Type your message here\")\n",
    "    submit = gr.Button(\"Send\")\n",
    "    \n",
    "    submit.click(chatbot_response, inputs=[text_input, chatbot], outputs=[chatbot, chatbot])\n",
    "\n",
    "demo.launch()"
   ]
  },
  {
   "cell_type": "code",
   "execution_count": null,
   "id": "2696db19-f528-45d6-afb9-a1bec81e1732",
   "metadata": {},
   "outputs": [],
   "source": []
  }
 ],
 "metadata": {
  "kernelspec": {
   "display_name": "Python 3 (ipykernel)",
   "language": "python",
   "name": "python3"
  },
  "language_info": {
   "codemirror_mode": {
    "name": "ipython",
    "version": 3
   },
   "file_extension": ".py",
   "mimetype": "text/x-python",
   "name": "python",
   "nbconvert_exporter": "python",
   "pygments_lexer": "ipython3",
   "version": "3.9.21"
  }
 },
 "nbformat": 4,
 "nbformat_minor": 5
}
