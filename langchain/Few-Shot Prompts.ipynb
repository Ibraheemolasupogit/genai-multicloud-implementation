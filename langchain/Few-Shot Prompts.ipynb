{
 "cells": [
  {
   "cell_type": "markdown",
   "id": "ca6ba8d9-4ea4-4d71-aa14-40c99f2170cf",
   "metadata": {},
   "source": [
    "# Few-Shot Prompts"
   ]
  },
  {
   "cell_type": "code",
   "execution_count": 1,
   "id": "9ea89acc-f8e4-4488-b5df-d620a0d732b2",
   "metadata": {},
   "outputs": [
    {
     "data": {
      "text/plain": [
       "True"
      ]
     },
     "execution_count": 1,
     "metadata": {},
     "output_type": "execute_result"
    }
   ],
   "source": [
    "import os\n",
    "from dotenv import load_dotenv\n",
    "load_dotenv()"
   ]
  },
  {
   "cell_type": "code",
   "execution_count": 2,
   "id": "840ade20-d6a0-4993-a83c-0805ce6685a3",
   "metadata": {},
   "outputs": [],
   "source": [
    "from langchain_openai.chat_models import ChatOpenAI\n",
    "from langchain import PromptTemplate, LLMChain\n",
    "from langchain.prompts.chat import (\n",
    "    ChatPromptTemplate,\n",
    "    SystemMessagePromptTemplate,\n",
    "    AIMessagePromptTemplate,\n",
    "    HumanMessagePromptTemplate,\n",
    ")\n",
    "from langchain.schema import AIMessage, HumanMessage, SystemMessage"
   ]
  },
  {
   "cell_type": "code",
   "execution_count": 3,
   "id": "6c3710fe-fa6f-4e43-88ca-78710898b413",
   "metadata": {},
   "outputs": [],
   "source": [
    "template = \"You are a helpful assistant that simplifies complex educational concepts into plain and understandable language for students.\"\n",
    "system_message_prompt = SystemMessagePromptTemplate.from_template(template)"
   ]
  },
  {
   "cell_type": "code",
   "execution_count": 5,
   "id": "fbdc5e94-4ca2-41d4-b705-d875e7a374ba",
   "metadata": {},
   "outputs": [],
   "source": [
    "text = \"explain photosynthesis in simple words\"\n",
    "example_input_one = HumanMessagePromptTemplate.from_template(text)"
   ]
  },
  {
   "cell_type": "code",
   "execution_count": 6,
   "id": "f4e66441-9ae3-48fa-996f-ed95afbebc35",
   "metadata": {},
   "outputs": [],
   "source": [
    "plain_text = \"Photosynthesis is how plants make food. They use sunlight to turn water and carbon dioxide into energy, which they store as sugar. This happens in the green parts of their cells, called chloroplasts.\"\n",
    "example_output_one = AIMessagePromptTemplate.from_template(plain_text)"
   ]
  },
  {
   "cell_type": "code",
   "execution_count": 7,
   "id": "35c79a53-f168-4691-8d15-fccbada92e8a",
   "metadata": {},
   "outputs": [],
   "source": [
    "human_template = \"{next_question}\"\n",
    "human_message_prompt = HumanMessagePromptTemplate.from_template(human_template)"
   ]
  },
  {
   "cell_type": "code",
   "execution_count": 8,
   "id": "a35f029e-e532-4b15-856d-15c49daa9e0c",
   "metadata": {},
   "outputs": [],
   "source": [
    "chat_prompt = ChatPromptTemplate.from_messages(\n",
    "    [system_message_prompt, example_input_one, example_output_one, human_message_prompt]\n",
    ")"
   ]
  },
  {
   "cell_type": "code",
   "execution_count": 9,
   "id": "973ea9e1-ff4f-44b5-b19b-eb0c25c398de",
   "metadata": {},
   "outputs": [],
   "source": [
    "some_example_text = (\n",
    "    \"Explain Newton's first law of motion.\"\n",
    "    \"Explain the law of inertia\"\n",
    ")"
   ]
  },
  {
   "cell_type": "code",
   "execution_count": 10,
   "id": "d25c680c-dc39-414c-94e8-64ce68dfdcbb",
   "metadata": {},
   "outputs": [],
   "source": [
    "chat = ChatOpenAI(model=\"gpt-4\")"
   ]
  },
  {
   "cell_type": "code",
   "execution_count": 11,
   "id": "9df43dd8-b65c-48be-8ec8-df7f131b317c",
   "metadata": {},
   "outputs": [],
   "source": [
    "request = chat_prompt.format_prompt(next_question=some_example_text).to_messages()"
   ]
  },
  {
   "cell_type": "code",
   "execution_count": 12,
   "id": "8505bd30-f2d2-4639-a31c-b2abe6b77a96",
   "metadata": {},
   "outputs": [
    {
     "data": {
      "text/plain": [
       "[SystemMessage(content='You are a helpful assistant that simplifies complex educational concepts into plain and understandable language for students.', additional_kwargs={}, response_metadata={}),\n",
       " HumanMessage(content='explain photosynthesis in simple words', additional_kwargs={}, response_metadata={}),\n",
       " AIMessage(content='Photosynthesis is how plants make food. They use sunlight to turn water and carbon dioxide into energy, which they store as sugar. This happens in the green parts of their cells, called chloroplasts.', additional_kwargs={}, response_metadata={}),\n",
       " HumanMessage(content=\"Explain Newton's first law of motion.Explain the law of inertia\", additional_kwargs={}, response_metadata={})]"
      ]
     },
     "execution_count": 12,
     "metadata": {},
     "output_type": "execute_result"
    }
   ],
   "source": [
    "request"
   ]
  },
  {
   "cell_type": "code",
   "execution_count": 13,
   "id": "017913f5-741e-4fb6-919d-1c5c0e275b45",
   "metadata": {},
   "outputs": [
    {
     "name": "stderr",
     "output_type": "stream",
     "text": [
      "C:\\Users\\ankit\\AppData\\Local\\Temp\\ipykernel_19140\\3758413524.py:1: LangChainDeprecationWarning: The method `BaseChatModel.__call__` was deprecated in langchain-core 0.1.7 and will be removed in 1.0. Use :meth:`~invoke` instead.\n",
      "  response = chat(request)\n"
     ]
    }
   ],
   "source": [
    "response = chat(request)"
   ]
  },
  {
   "cell_type": "code",
   "execution_count": 15,
   "id": "2de3fb99-bbbd-4ded-a5cb-850dc5623925",
   "metadata": {},
   "outputs": [
    {
     "data": {
      "text/plain": [
       "\"Newton's first law of motion, also known as the law of inertia, is all about how things keep doing what they're doing unless something else makes them do otherwise. If something is sitting still, it wants to keep sitting still. If something is moving, it wants to keep moving in a straight line at the same speed. \\n\\nIt's only when something else comes into play (like you kick a ball, or gravity pulls an apple from a tree) that this will change. This might seem obvious to us, but back in Newton's time, it was a path-breaking understanding of how the world works.\""
      ]
     },
     "execution_count": 15,
     "metadata": {},
     "output_type": "execute_result"
    }
   ],
   "source": [
    "response.content"
   ]
  },
  {
   "cell_type": "code",
   "execution_count": null,
   "id": "c575e973-98eb-4690-b35a-38bcdb196618",
   "metadata": {},
   "outputs": [],
   "source": []
  },
  {
   "cell_type": "markdown",
   "id": "4f7e9d68-42e4-440f-9186-0cfd2a32b2bd",
   "metadata": {},
   "source": [
    "# Save prompt"
   ]
  },
  {
   "cell_type": "code",
   "execution_count": 16,
   "id": "d559a72c-3c2a-4655-b0c8-8cafc3290894",
   "metadata": {},
   "outputs": [],
   "source": [
    "from langchain import PromptTemplate"
   ]
  },
  {
   "cell_type": "code",
   "execution_count": 17,
   "id": "940c944f-98c1-4a4a-a304-cb5df5db03a8",
   "metadata": {},
   "outputs": [
    {
     "data": {
      "text/plain": [
       "'Describe the weather at 10 AM in Paris.'"
      ]
     },
     "execution_count": 17,
     "metadata": {},
     "output_type": "execute_result"
    }
   ],
   "source": [
    "multi_input_prompt = PromptTemplate(input_variables=[\"city\", \"time\"], \n",
    "                                  template=\"Describe the weather at {time} in {city}.\")\n",
    "multi_input_prompt.format(city=\"Paris\", time=\"10 AM\")"
   ]
  },
  {
   "cell_type": "code",
   "execution_count": 18,
   "id": "41953d2e-dd9e-43c8-be66-07b61d6203bc",
   "metadata": {},
   "outputs": [],
   "source": [
    "multi_input_prompt.save(\"myprompt.json\")"
   ]
  },
  {
   "cell_type": "code",
   "execution_count": 19,
   "id": "b91010f0-dc07-4df0-bf43-6bf4936cb2c3",
   "metadata": {},
   "outputs": [],
   "source": [
    "from langchain.prompts import load_prompt"
   ]
  },
  {
   "cell_type": "code",
   "execution_count": 20,
   "id": "ddb3b274-3bd7-4391-ae80-ec29f6e529c6",
   "metadata": {},
   "outputs": [],
   "source": [
    "new_prompt = load_prompt(\"myprompt.json\")"
   ]
  },
  {
   "cell_type": "code",
   "execution_count": 21,
   "id": "969158d6-8a7e-4e4e-8795-018eb3da8f43",
   "metadata": {},
   "outputs": [
    {
     "data": {
      "text/plain": [
       "PromptTemplate(input_variables=['city', 'time'], input_types={}, partial_variables={}, template='Describe the weather at {time} in {city}.')"
      ]
     },
     "execution_count": 21,
     "metadata": {},
     "output_type": "execute_result"
    }
   ],
   "source": [
    "new_prompt"
   ]
  },
  {
   "cell_type": "code",
   "execution_count": null,
   "id": "7d9c8855-18f7-4a9c-a0f8-fa85a566af82",
   "metadata": {},
   "outputs": [],
   "source": []
  }
 ],
 "metadata": {
  "kernelspec": {
   "display_name": "Python 3 (ipykernel)",
   "language": "python",
   "name": "python3"
  },
  "language_info": {
   "codemirror_mode": {
    "name": "ipython",
    "version": 3
   },
   "file_extension": ".py",
   "mimetype": "text/x-python",
   "name": "python",
   "nbconvert_exporter": "python",
   "pygments_lexer": "ipython3",
   "version": "3.9.21"
  }
 },
 "nbformat": 4,
 "nbformat_minor": 5
}
