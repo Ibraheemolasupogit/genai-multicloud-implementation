{
 "cells": [
  {
   "cell_type": "markdown",
   "id": "7df76f98-779f-4d1b-b149-3c7a1da1d51b",
   "metadata": {},
   "source": [
    "# 1. Hello World Example"
   ]
  },
  {
   "cell_type": "code",
   "execution_count": 1,
   "id": "eb042225-e00c-4ee2-81bb-ae74dfcdc30c",
   "metadata": {},
   "outputs": [
    {
     "data": {
      "text/plain": [
       "True"
      ]
     },
     "execution_count": 1,
     "metadata": {},
     "output_type": "execute_result"
    }
   ],
   "source": [
    "import os\n",
    "from dotenv import load_dotenv\n",
    "load_dotenv()"
   ]
  },
  {
   "cell_type": "code",
   "execution_count": 2,
   "id": "15d37088-52fb-45a1-95b9-348d69b6e3b5",
   "metadata": {},
   "outputs": [],
   "source": [
    "# Please install OpenAI SDK first: `pip3 install openai`\n",
    "from openai import OpenAI"
   ]
  },
  {
   "cell_type": "code",
   "execution_count": 3,
   "id": "3d8f14d4-d9e3-424a-9f41-34db05c677ec",
   "metadata": {},
   "outputs": [],
   "source": [
    "import os"
   ]
  },
  {
   "cell_type": "code",
   "execution_count": 4,
   "id": "bb1c4ebb-1093-4e42-a09e-27c1579db3a9",
   "metadata": {},
   "outputs": [],
   "source": [
    "client = OpenAI(api_key=os.getenv('DEEPSEEK_API_KEY'), base_url=\"https://api.deepseek.com\")"
   ]
  },
  {
   "cell_type": "code",
   "execution_count": 8,
   "id": "fefdb1da-faba-4a3e-88be-89d2d45b6a40",
   "metadata": {},
   "outputs": [
    {
     "name": "stdout",
     "output_type": "stream",
     "text": [
      "New Delhi.\n"
     ]
    }
   ],
   "source": [
    "response = client.chat.completions.create(\n",
    "    model=\"deepseek-chat\",\n",
    "    messages=[\n",
    "        {\"role\": \"system\", \"content\": \"You are a helpful assistant\"},\n",
    "        {\"role\": \"user\", \"content\": \"What is capital of India? Give me just Answer.\"},\n",
    "    ],\n",
    "    stream=False\n",
    ")\n",
    "print(response.choices[0].message.content)"
   ]
  },
  {
   "cell_type": "code",
   "execution_count": null,
   "id": "2556058c-cc43-49e3-a0e9-52186758912e",
   "metadata": {},
   "outputs": [],
   "source": []
  },
  {
   "cell_type": "code",
   "execution_count": null,
   "id": "2d27ea79-c80c-4f23-a349-e10b2f542218",
   "metadata": {},
   "outputs": [],
   "source": [
    "\n",
    "\n",
    "\n",
    "\n",
    "\n",
    "\n"
   ]
  },
  {
   "cell_type": "markdown",
   "id": "c0eaaffb-908b-4553-90ed-a77547bcf756",
   "metadata": {},
   "source": [
    "# 2. Simple Application"
   ]
  },
  {
   "cell_type": "code",
   "execution_count": 9,
   "id": "06bacf89-0b06-41cf-bac9-7084edfecad5",
   "metadata": {},
   "outputs": [],
   "source": [
    "import gradio as gr"
   ]
  },
  {
   "cell_type": "code",
   "execution_count": 10,
   "id": "13d72ff4-e7d8-495f-9641-a6a771a50729",
   "metadata": {},
   "outputs": [],
   "source": [
    "def generate_recipe(ingredients, cuisine):\n",
    "    # Prepare prompt\n",
    "    prompt = f\"Create a unique recipe using these ingredients: {ingredients}\"\n",
    "    if cuisine:\n",
    "        prompt += f\" Preferably in {cuisine} cuisine style\"\n",
    "    prompt += \". Include ingredients, step-by-step instructions, and cooking tips.\"\n",
    "\n",
    "    try:\n",
    "        response = client.chat.completions.create(\n",
    "            model=\"deepseek-chat\",\n",
    "            messages=[\n",
    "                {\"role\": \"system\", \"content\": \"You are a creative chef who generates unique recipes.\"},\n",
    "                {\"role\": \"user\", \"content\": prompt}\n",
    "            ]\n",
    "        )\n",
    "\n",
    "        return response.choices[0].message.content\n",
    "    \n",
    "    except Exception as e:\n",
    "        return f\"Error generating recipe: {str(e)}\""
   ]
  },
  {
   "cell_type": "code",
   "execution_count": 11,
   "id": "217e5f6f-5ebd-4994-a3a9-5a6c36b9148f",
   "metadata": {},
   "outputs": [
    {
     "data": {
      "text/plain": [
       "'### Recipe: **Spiced Chicken and Fish Biryani with Fragrant Rice**\\n\\nThis unique Indian-inspired dish combines tender chicken, flaky fish, and aromatic rice into a flavorful one-pot meal. The blend of spices and the layering technique create a rich and satisfying biryani with a delightful mix of textures.\\n\\n---\\n\\n#### **Ingredients** (Serves 4-6)\\n\\n**For the Chicken Marinade:**\\n- 300g boneless chicken (cut into bite-sized pieces)\\n- 1 tsp ginger-garlic paste\\n- 1/2 tsp turmeric powder\\n- 1 tsp red chili powder\\n- 1/2 tsp garam masala\\n- 1/2 tsp cumin powder\\n- 1/2 tsp coriander powder\\n- 1 tbsp yogurt\\n- Salt to taste\\n- 1 tbsp oil\\n\\n**For the Fish Marinade:**\\n- 300g firm white fish (like cod or tilapia, cut into chunks)\\n- 1 tsp ginger-garlic paste\\n- 1/2 tsp turmeric powder\\n- 1 tsp red chili powder\\n- 1/2 tsp garam masala\\n- 1 tbsp lemon juice\\n- Salt to taste\\n- 1 tbsp oil\\n\\n**For the Rice:**\\n- 2 cups basmati rice (soaked for 30 minutes)\\n- 4 cups water\\n- 1 bay leaf\\n- 2-3 green cardamom pods\\n- 1 cinnamon stick\\n- 2-3 cloves\\n- 1 tsp salt\\n\\n**For the Biryani Layering:**\\n- 2 large onions (thinly sliced)\\n- 2 tomatoes (chopped)\\n- 1/2 cup fresh coriander leaves (chopped)\\n- 1/2 cup mint leaves (chopped)\\n- 2-3 green chilies (slit)\\n- 1/2 cup fried onions (store-bought or homemade)\\n- 1/2 cup plain yogurt\\n- 1/4 cup ghee or oil\\n- 1/2 tsp saffron strands (soaked in 2 tbsp warm milk)\\n- 1/4 cup cashews and raisins (optional, for garnish)\\n\\n---\\n\\n#### **Step-by-Step Instructions**\\n\\n**1. Marinate the Chicken and Fish:**\\n   - In separate bowls, marinate the chicken and fish with their respective ingredients. Mix well, cover, and refrigerate for at least 30 minutes (or up to 2 hours for deeper flavor).\\n\\n**2. Cook the Rice:**\\n   - In a large pot, bring 4 cups of water to a boil. Add the soaked and drained rice, along with the bay leaf, cardamom, cinnamon, cloves, and salt. Cook until the rice is 70% done (it should still have a slight bite). Drain and set aside.\\n\\n**3. Prepare the Chicken and Fish:**\\n   - Heat 1 tbsp oil in a pan and cook the marinated chicken until it’s fully cooked and tender. Remove and set aside.\\n   - In the same pan, add another tbsp of oil and lightly sear the marinated fish pieces for 2-3 minutes on each side (do not overcook). Set aside.\\n\\n**4. Caramelize the Onions:**\\n   - In a large, heavy-bottomed pot, heat ghee or oil. Add the sliced onions and fry until golden brown and caramelized. Remove half for garnish.\\n\\n**5. Layer the Biryani:**\\n   - In the same pot with the remaining onions, add the chopped tomatoes, green chilies, and half of the coriander and mint leaves. Cook until the tomatoes soften.\\n   - Spread the cooked chicken evenly over the tomato-onion mixture.\\n   - Layer the partially cooked rice over the chicken.\\n   - Place the seared fish pieces on top of the rice.\\n   - Sprinkle the fried onions, remaining coriander, mint leaves, and saffron milk over the rice.\\n   - Drizzle yogurt evenly over the top.\\n\\n**6. Dum Cooking (Slow Cooking):**\\n   - Cover the pot with a tight-fitting lid or seal with aluminum foil. Cook on low heat for 20-25 minutes to allow the flavors to meld together.\\n\\n**7. Garnish and Serve:**\\n   - Gently fluff the biryani with a fork, mixing the layers slightly.\\n   - Garnish with fried cashews and raisins (if using) and the reserved caramelized onions.\\n   - Serve hot with raita (yogurt dip) or a side salad.\\n\\n---\\n\\n#### **Cooking Tips**\\n- **Rice Texture:** Ensure the rice is only 70% cooked before layering, as it will finish cooking during the dum process.\\n- **Fish Choice:** Use firm fish that won’t fall apart easily during cooking.\\n- **Layering:** Avoid stirring the biryani after layering to maintain the distinct flavors of chicken, fish, and rice.\\n- **Saffron Substitute:** If saffron is unavailable, use a pinch of turmeric for color.\\n- **Dum Cooking:** For an authentic touch, place a tawa (griddle) under the pot to prevent burning and ensure even heat distribution.\\n\\nEnjoy this fusion of chicken, fish, and rice in a fragrant, spiced biryani that’s perfect for a special meal!'"
      ]
     },
     "execution_count": 11,
     "metadata": {},
     "output_type": "execute_result"
    }
   ],
   "source": [
    "generate_recipe(\"Chicken,Rice,Fish\", \"Indian\")"
   ]
  },
  {
   "cell_type": "code",
   "execution_count": 12,
   "id": "99374968-4254-4379-9441-31cc1d4ce942",
   "metadata": {},
   "outputs": [
    {
     "name": "stdout",
     "output_type": "stream",
     "text": [
      "Running on local URL:  http://127.0.0.1:7860\n",
      "\n",
      "To create a public link, set `share=True` in `launch()`.\n"
     ]
    },
    {
     "data": {
      "text/html": [
       "<div><iframe src=\"http://127.0.0.1:7860/\" width=\"100%\" height=\"500\" allow=\"autoplay; camera; microphone; clipboard-read; clipboard-write;\" frameborder=\"0\" allowfullscreen></iframe></div>"
      ],
      "text/plain": [
       "<IPython.core.display.HTML object>"
      ]
     },
     "metadata": {},
     "output_type": "display_data"
    }
   ],
   "source": [
    "iface = gr.Interface(\n",
    "    fn=generate_recipe,\n",
    "    inputs=[\n",
    "        gr.Textbox(label=\"Ingredients (comma-separated)\"),\n",
    "        gr.Textbox(label=\"Cuisine Preference (optional)\")\n",
    "    ],\n",
    "    outputs=gr.Textbox(label=\"Recipe Suggestion\"),\n",
    "    title=\"AI Recipe Recommendation\",\n",
    "    description=\"Enter ingredients and optional cuisine preference to get a unique recipe!\"\n",
    ")\n",
    "# Launch the app\n",
    "if __name__ == \"__main__\":\n",
    "    iface.launch()"
   ]
  },
  {
   "cell_type": "code",
   "execution_count": null,
   "id": "c5249316-f779-4bc0-aa95-d7d6a311aed5",
   "metadata": {},
   "outputs": [],
   "source": []
  }
 ],
 "metadata": {
  "kernelspec": {
   "display_name": "Python 3 (ipykernel)",
   "language": "python",
   "name": "python3"
  },
  "language_info": {
   "codemirror_mode": {
    "name": "ipython",
    "version": 3
   },
   "file_extension": ".py",
   "mimetype": "text/x-python",
   "name": "python",
   "nbconvert_exporter": "python",
   "pygments_lexer": "ipython3",
   "version": "3.9.21"
  }
 },
 "nbformat": 4,
 "nbformat_minor": 5
}
