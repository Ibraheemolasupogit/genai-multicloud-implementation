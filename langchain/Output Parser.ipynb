{
 "cells": [
  {
   "cell_type": "markdown",
   "id": "e0bc701e-e7da-4711-868f-25e86321fcb0",
   "metadata": {},
   "source": [
    "# CommaSeparated Parser"
   ]
  },
  {
   "cell_type": "code",
   "execution_count": 1,
   "id": "6c173265-70e7-418d-993e-6c678b5deff5",
   "metadata": {},
   "outputs": [
    {
     "data": {
      "text/plain": [
       "True"
      ]
     },
     "execution_count": 1,
     "metadata": {},
     "output_type": "execute_result"
    }
   ],
   "source": [
    "import os\n",
    "from dotenv import load_dotenv\n",
    "load_dotenv()"
   ]
  },
  {
   "cell_type": "code",
   "execution_count": 2,
   "id": "768a0bef-a718-4462-8a78-229721b67624",
   "metadata": {},
   "outputs": [],
   "source": [
    "from langchain.prompts import PromptTemplate, SystemMessagePromptTemplate, ChatPromptTemplate, HumanMessagePromptTemplate\n",
    "from langchain_openai import OpenAI\n",
    "from langchain.chat_models import ChatOpenAI"
   ]
  },
  {
   "cell_type": "code",
   "execution_count": 3,
   "id": "63991119-e28d-4ede-9f75-dcb1398a88bf",
   "metadata": {},
   "outputs": [],
   "source": [
    "from langchain.output_parsers import CommaSeparatedListOutputParser"
   ]
  },
  {
   "cell_type": "code",
   "execution_count": 4,
   "id": "44a476b8-a38c-4dbe-82cc-6587ccd83d86",
   "metadata": {},
   "outputs": [],
   "source": [
    "out_parser = CommaSeparatedListOutputParser()"
   ]
  },
  {
   "cell_type": "code",
   "execution_count": 6,
   "id": "08b59296-020d-4382-9027-e766b097ab0f",
   "metadata": {},
   "outputs": [],
   "source": [
    "format_instruction = out_parser.get_format_instructions()"
   ]
  },
  {
   "cell_type": "code",
   "execution_count": 8,
   "id": "4ff81c9e-cb68-42a0-9753-e23e22c95b98",
   "metadata": {},
   "outputs": [
    {
     "data": {
      "text/plain": [
       "'Your response should be a list of comma separated values, eg: `foo, bar, baz` or `foo,bar,baz`'"
      ]
     },
     "execution_count": 8,
     "metadata": {},
     "output_type": "execute_result"
    }
   ],
   "source": [
    "format_instruction"
   ]
  },
  {
   "cell_type": "code",
   "execution_count": 7,
   "id": "59b583e7-ea59-48e5-9059-01adff623b95",
   "metadata": {},
   "outputs": [
    {
     "data": {
      "text/plain": [
       "['a', 'b', 'c', 'd']"
      ]
     },
     "execution_count": 7,
     "metadata": {},
     "output_type": "execute_result"
    }
   ],
   "source": [
    "out_parser.parse(\"a,b,c,d\")"
   ]
  },
  {
   "cell_type": "code",
   "execution_count": 9,
   "id": "a9d9dfa6-2433-46fe-b7e2-62a02456f465",
   "metadata": {},
   "outputs": [],
   "source": [
    "human_template = \"\"\"Please suggest 5 must-watch {genre} movies from different decades.\n",
    "{format_instructions}\"\"\""
   ]
  },
  {
   "cell_type": "code",
   "execution_count": 17,
   "id": "922528dc-89a1-4fad-a508-a09d3a1ccde3",
   "metadata": {},
   "outputs": [],
   "source": [
    "# Set up the prompt structure\n",
    "human_prompt = HumanMessagePromptTemplate.from_template(human_template)\n",
    "chat_prompt = ChatPromptTemplate.from_messages([human_prompt])\n",
    "\n",
    "# Format the prompt with specific genre\n",
    "request = chat_prompt.format_prompt(\n",
    "    genre=\"comedy\",\n",
    "    format_instructions=out_parser.get_format_instructions()\n",
    ").to_messages()\n",
    "\n",
    "model = OpenAI()\n",
    "\n",
    "# Get the response from the model\n",
    "result = model.invoke(request)"
   ]
  },
  {
   "cell_type": "code",
   "execution_count": 18,
   "id": "540c3e20-1961-4e0b-9cb6-61a3852dbd70",
   "metadata": {},
   "outputs": [
    {
     "data": {
      "text/plain": [
       "'\\n\\n1. Monty Python and the Holy Grail (1975)\\n2. Airplane! (1980)\\n3. Groundhog Day (1993)\\n4. The Big Lebowski (1998)\\n5. Bridesmaids (2011)'"
      ]
     },
     "execution_count": 18,
     "metadata": {},
     "output_type": "execute_result"
    }
   ],
   "source": [
    "result"
   ]
  },
  {
   "cell_type": "code",
   "execution_count": 19,
   "id": "8d9fe45b-dbf4-43bc-b9fc-42539f60eeea",
   "metadata": {},
   "outputs": [],
   "source": [
    "movies = out_parser.parse(result)"
   ]
  },
  {
   "cell_type": "code",
   "execution_count": 20,
   "id": "c31c88da-c7ce-4ba6-a156-0ddeb0c09b29",
   "metadata": {},
   "outputs": [
    {
     "data": {
      "text/plain": [
       "['1. Monty Python and the Holy Grail (1975)',\n",
       " '2. Airplane! (1980)',\n",
       " '3. Groundhog Day (1993)',\n",
       " '4. The Big Lebowski (1998)',\n",
       " '5. Bridesmaids (2011)']"
      ]
     },
     "execution_count": 20,
     "metadata": {},
     "output_type": "execute_result"
    }
   ],
   "source": [
    "movies"
   ]
  },
  {
   "cell_type": "markdown",
   "id": "c5e349ac-e97d-49e9-92ba-8f08b98783e2",
   "metadata": {},
   "source": [
    "# JSON parser"
   ]
  },
  {
   "cell_type": "code",
   "execution_count": 21,
   "id": "1d154ffb-69a9-4124-bb04-aed71002c5cf",
   "metadata": {},
   "outputs": [
    {
     "name": "stdout",
     "output_type": "stream",
     "text": [
      "\n",
      "{\n",
      "  \"1950s\": \"The Day the Earth Stood Still\",\n",
      "  \"1960s\": \"2001: A Space Odyssey\",\n",
      "  \"1970s\": \"Star Wars\",\n",
      "  \"1980s\": \"Blade Runner\",\n",
      "  \"1990s\": \"The Matrix\"\n",
      "}\n",
      "{'1950s': 'The Day the Earth Stood Still', '1960s': '2001: A Space Odyssey', '1970s': 'Star Wars', '1980s': 'Blade Runner', '1990s': 'The Matrix'}\n"
     ]
    }
   ],
   "source": [
    "from langchain_core.output_parsers import JsonOutputParser\n",
    "from langchain.prompts import HumanMessagePromptTemplate, ChatPromptTemplate\n",
    "\n",
    "# Define a simple JSON schema for 5 movie titles\n",
    "schema = {\n",
    "    \"type\": \"array\",\n",
    "    \"items\": {\"type\": \"string\"},\n",
    "    \"minItems\": 5,\n",
    "    \"maxItems\": 5\n",
    "}\n",
    "\n",
    "# Set up the JSON parser and prompt\n",
    "parser = JsonOutputParser(json_schema=schema)\n",
    "template = \"\"\"Suggest 5 must-watch {genre} movies from different decades.\n",
    "{format_instructions}\"\"\"\n",
    "\n",
    "chat_prompt = ChatPromptTemplate.from_messages([\n",
    "    HumanMessagePromptTemplate.from_template(template)\n",
    "])\n",
    "\n",
    "# Prepare the request, get response, and parse JSON\n",
    "messages = chat_prompt.format_prompt(\n",
    "    genre=\"sci-fi\", \n",
    "    format_instructions=parser.get_format_instructions()\n",
    ").to_messages()\n",
    "\n",
    "result = model.invoke(messages)\n",
    "print(result)\n",
    "movies = parser.parse(result)\n",
    "print(movies)\n"
   ]
  },
  {
   "cell_type": "code",
   "execution_count": 22,
   "id": "2b82548e-fa9c-43ab-b900-4ba2e98cdb1e",
   "metadata": {},
   "outputs": [
    {
     "data": {
      "text/plain": [
       "'Return a JSON object.'"
      ]
     },
     "execution_count": 22,
     "metadata": {},
     "output_type": "execute_result"
    }
   ],
   "source": [
    "parser.get_format_instructions()"
   ]
  },
  {
   "cell_type": "code",
   "execution_count": 23,
   "id": "899f455a-a506-4143-99cb-a5f10976e7a5",
   "metadata": {},
   "outputs": [
    {
     "data": {
      "text/plain": [
       "dict"
      ]
     },
     "execution_count": 23,
     "metadata": {},
     "output_type": "execute_result"
    }
   ],
   "source": [
    "type(movies)"
   ]
  },
  {
   "cell_type": "code",
   "execution_count": 24,
   "id": "08bb05f2-c2fe-42c8-9af0-8ab7e1ef5338",
   "metadata": {},
   "outputs": [
    {
     "data": {
      "text/plain": [
       "'The Day the Earth Stood Still'"
      ]
     },
     "execution_count": 24,
     "metadata": {},
     "output_type": "execute_result"
    }
   ],
   "source": [
    "movies['1950s']"
   ]
  },
  {
   "cell_type": "markdown",
   "id": "babbfb56-d62d-4f9d-ad12-7e387b1ca66f",
   "metadata": {},
   "source": [
    "# XML parser"
   ]
  },
  {
   "cell_type": "code",
   "execution_count": 26,
   "id": "a0ae47e3-cdbb-44ea-b8e3-023f9b74656e",
   "metadata": {},
   "outputs": [
    {
     "name": "stdout",
     "output_type": "stream",
     "text": [
      "XML Response from model:\n",
      "\n",
      "\n",
      "<movies>\n",
      "  <movie>\n",
      "    <title>2001: A Space Odyssey</title>\n",
      "    <decade>1960s</decade>\n",
      "  </movie>\n",
      "  <movie>\n",
      "    <title>Blade Runner</title>\n",
      "    <decade>1980s</decade>\n",
      "  </movie>\n",
      "  <movie>\n",
      "    <title>The Matrix</title>\n",
      "    <decade>1990s</decade>\n",
      "  </movie>\n",
      "  <movie>\n",
      "    <title>Inception</title>\n",
      "    <decade>2010s</decade>\n",
      "  </movie>\n",
      "  <movie>\n",
      "    <title>Arrival</title>\n",
      "    <decade>2020s</decade>\n",
      "  </movie>\n",
      "</movies>\n",
      "\n",
      "Recommended Sci-Fi Movies:\n",
      "- 2001: A Space Odyssey (1960s)\n",
      "- Blade Runner (1980s)\n",
      "- The Matrix (1990s)\n",
      "- Inception (2010s)\n",
      "- Arrival (2020s)\n"
     ]
    }
   ],
   "source": [
    "import xml.etree.ElementTree as ET\n",
    "from langchain.prompts import HumanMessagePromptTemplate, ChatPromptTemplate\n",
    "\n",
    "# Define an XML-specific prompt template instructing the model to output XML\n",
    "template = \"\"\"Suggest 5 must-watch {genre} movies from different decades.\n",
    "Please format the response as XML with a root element <movies> and each movie as a <movie> element containing <title> and <decade> children.\"\"\"\n",
    "\n",
    "chat_prompt = ChatPromptTemplate.from_messages([\n",
    "    HumanMessagePromptTemplate.from_template(template)\n",
    "])\n",
    "\n",
    "# Prepare the request with the desired genre\n",
    "messages = chat_prompt.format_prompt(genre=\"sci-fi\").to_messages()\n",
    "\n",
    "# Invoke the model\n",
    "result = model.invoke(messages)\n",
    "xml_response = result\n",
    "print(\"XML Response from model:\")\n",
    "print(xml_response)\n",
    "\n",
    "# Define a function to parse the XML response\n",
    "def parse_xml_movies(xml_string):\n",
    "    root = ET.fromstring(xml_string)\n",
    "    movies = []\n",
    "    for movie_elem in root.findall('movie'):\n",
    "        title = movie_elem.find('title').text if movie_elem.find('title') is not None else \"N/A\"\n",
    "        decade = movie_elem.find('decade').text if movie_elem.find('decade') is not None else \"N/A\"\n",
    "        movies.append({'title': title, 'decade': decade})\n",
    "    return movies\n",
    "\n",
    "# Parse the XML into a Python list of dictionaries\n",
    "movies = parse_xml_movies(xml_response)\n",
    "\n",
    "# Print the recommended movies\n",
    "print(\"\\nRecommended Sci-Fi Movies:\")\n",
    "for movie in movies:\n",
    "    print(f\"- {movie['title']} ({movie['decade']})\")"
   ]
  },
  {
   "cell_type": "code",
   "execution_count": null,
   "id": "fbca5d23-54a2-4e0c-847a-1504e4b01afd",
   "metadata": {},
   "outputs": [],
   "source": []
  },
  {
   "cell_type": "markdown",
   "id": "99944a1e-1b6b-44b9-80e6-ea391f28ad05",
   "metadata": {},
   "source": [
    "# datetime Parser"
   ]
  },
  {
   "cell_type": "code",
   "execution_count": 30,
   "id": "e3b46317-0404-49d5-98ba-5ae5d1396f60",
   "metadata": {},
   "outputs": [
    {
     "name": "stdout",
     "output_type": "stream",
     "text": [
      "Raw: 2025-02-03T09:00:00.000000Z\n",
      "Parsed: 2025-02-03 09:00:00\n",
      "Formatted: Monday, February 03, 2025 at 09:00 AM\n"
     ]
    }
   ],
   "source": [
    "from langchain.prompts import ChatPromptTemplate, SystemMessagePromptTemplate, HumanMessagePromptTemplate\n",
    "from langchain_openai import ChatOpenAI\n",
    "from langchain.output_parsers import DatetimeOutputParser\n",
    "from datetime import datetime\n",
    "import pytz\n",
    "\n",
    "# Initialize model and parser\n",
    "model = ChatOpenAI()\n",
    "datetime_parser = DatetimeOutputParser()\n",
    "\n",
    "# Create prompt templates\n",
    "current_date = datetime.now(pytz.UTC).strftime(\"%Y-%m-%d\")\n",
    "system_prompt = SystemMessagePromptTemplate.from_template(\n",
    "    f\"You are a helpful assistant that converts text descriptions of dates and times into ISO format datetime strings.\\n\"\n",
    "    f\"Always return the datetime in the exact format: YYYY-MM-DDThh:mm:ss.000000Z\\n\"\n",
    "    f\"For relative dates, use the current date ({current_date}) as the reference point.\\n\"\n",
    "    f\"{datetime_parser.get_format_instructions()}\"\n",
    ")\n",
    "human_prompt = HumanMessagePromptTemplate.from_template(\n",
    "    \"Convert the following date/time description to a datetime:\\nDescription: {date_description}\\n\"\n",
    "    \"Remember to return only the ISO datetime string in the format: YYYY-MM-DDThh:mm:ss.000000Z\"\n",
    ")\n",
    "\n",
    "# Combine and format prompts\n",
    "request = ChatPromptTemplate.from_messages([system_prompt, human_prompt]).format_prompt(\n",
    "    date_description=\"the first Monday of next month at 9am\"\n",
    ").to_messages()\n",
    "\n",
    "# Get response and parse\n",
    "result = model.invoke(request)\n",
    "parsed_datetime = datetime_parser.parse(result.content)\n",
    "\n",
    "# Output results\n",
    "print(\"Raw:\", result.content)\n",
    "print(\"Parsed:\", parsed_datetime)\n",
    "print(\"Formatted:\", parsed_datetime.strftime('%A, %B %d, %Y at %I:%M %p'))"
   ]
  },
  {
   "cell_type": "code",
   "execution_count": 29,
   "id": "ccae0323-1963-4c7e-af95-273682197fd5",
   "metadata": {},
   "outputs": [
    {
     "data": {
      "text/plain": [
       "\"Write a datetime string that matches the following pattern: '%Y-%m-%dT%H:%M:%S.%fZ'.\\n\\nExamples: 1717-03-05T06:40:39.947296Z, 0909-08-10T19:17:05.870663Z, 1661-11-03T14:49:16.559227Z\\n\\nReturn ONLY this string, no other words!\""
      ]
     },
     "execution_count": 29,
     "metadata": {},
     "output_type": "execute_result"
    }
   ],
   "source": [
    "datetime_parser.get_format_instructions()"
   ]
  },
  {
   "cell_type": "code",
   "execution_count": null,
   "id": "b172465c-6c58-4c3d-8d85-4d5c925f9c61",
   "metadata": {},
   "outputs": [],
   "source": []
  }
 ],
 "metadata": {
  "kernelspec": {
   "display_name": "Python 3 (ipykernel)",
   "language": "python",
   "name": "python3"
  },
  "language_info": {
   "codemirror_mode": {
    "name": "ipython",
    "version": 3
   },
   "file_extension": ".py",
   "mimetype": "text/x-python",
   "name": "python",
   "nbconvert_exporter": "python",
   "pygments_lexer": "ipython3",
   "version": "3.9.21"
  }
 },
 "nbformat": 4,
 "nbformat_minor": 5
}
