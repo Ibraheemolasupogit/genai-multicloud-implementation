{
 "cells": [
  {
   "cell_type": "markdown",
   "id": "3b53d8c0-e443-48e1-a1eb-85902fac9f71",
   "metadata": {},
   "source": [
    "# CSV"
   ]
  },
  {
   "cell_type": "code",
   "execution_count": 2,
   "id": "7e4d6001-1a3a-4ace-a8cb-f9085f7eb58d",
   "metadata": {},
   "outputs": [],
   "source": [
    "from langchain.document_loaders import CSVLoader"
   ]
  },
  {
   "cell_type": "code",
   "execution_count": 9,
   "id": "e0c2b0a7-afff-4389-9f47-1689d3c9f0a5",
   "metadata": {},
   "outputs": [],
   "source": [
    "loader = CSVLoader(\"data/car data.csv\")"
   ]
  },
  {
   "cell_type": "code",
   "execution_count": 10,
   "id": "b515a4c1-3f1a-431f-bf0d-5408867fbdc2",
   "metadata": {},
   "outputs": [],
   "source": [
    "data = loader.load()"
   ]
  },
  {
   "cell_type": "code",
   "execution_count": 11,
   "id": "66e89be2-e37a-48b7-92a4-1e556d043c00",
   "metadata": {},
   "outputs": [
    {
     "data": {
      "text/plain": [
       "list"
      ]
     },
     "execution_count": 11,
     "metadata": {},
     "output_type": "execute_result"
    }
   ],
   "source": [
    "type(data)"
   ]
  },
  {
   "cell_type": "code",
   "execution_count": 12,
   "id": "20577bc1-0654-4fdb-8816-601afdb94c50",
   "metadata": {},
   "outputs": [
    {
     "data": {
      "text/plain": [
       "10"
      ]
     },
     "execution_count": 12,
     "metadata": {},
     "output_type": "execute_result"
    }
   ],
   "source": [
    "len(data)"
   ]
  },
  {
   "cell_type": "code",
   "execution_count": 16,
   "id": "31b7cdf1-4ec4-4005-9ee1-c8a42cb4dedb",
   "metadata": {},
   "outputs": [
    {
     "data": {
      "text/plain": [
       "'Car_Name: ritz\\nYear: 2014\\nSelling_Price: 3.35\\nPresent_Price: 5.59\\nKms_Driven: 27000\\nFuel_Type: Petrol\\nSeller_Type: Dealer\\nTransmission: Manual\\nOwner: 0'"
      ]
     },
     "execution_count": 16,
     "metadata": {},
     "output_type": "execute_result"
    }
   ],
   "source": [
    "data[0].page_content"
   ]
  },
  {
   "cell_type": "code",
   "execution_count": null,
   "id": "a66eb6e7-8e52-493c-8176-59da6d2fa9c4",
   "metadata": {},
   "outputs": [],
   "source": []
  },
  {
   "cell_type": "code",
   "execution_count": null,
   "id": "4812256e-e2df-4168-85d0-aeb3b2587da5",
   "metadata": {},
   "outputs": [],
   "source": []
  },
  {
   "cell_type": "markdown",
   "id": "5cca705a-16b1-4f08-9dd2-f3605f948472",
   "metadata": {},
   "source": [
    "# HTML"
   ]
  },
  {
   "cell_type": "code",
   "execution_count": 17,
   "id": "cd43c0af-1f23-4a2b-b79b-73ef28e9dc21",
   "metadata": {},
   "outputs": [],
   "source": [
    "from langchain.document_loaders import BSHTMLLoader"
   ]
  },
  {
   "cell_type": "code",
   "execution_count": 18,
   "id": "c95f4ffa-627b-4512-94da-9a90128fdefe",
   "metadata": {},
   "outputs": [],
   "source": [
    "loader = BSHTMLLoader(\"data/Hacker News.html\")"
   ]
  },
  {
   "cell_type": "code",
   "execution_count": 19,
   "id": "f57d182a-0307-410d-b740-d3c81c5178d9",
   "metadata": {},
   "outputs": [],
   "source": [
    "data = loader.load()"
   ]
  },
  {
   "cell_type": "code",
   "execution_count": 20,
   "id": "80c060a1-d98a-4758-a0e5-ffa4ff0dabe4",
   "metadata": {},
   "outputs": [
    {
     "data": {
      "text/plain": [
       "[Document(metadata={'source': 'data/Hacker News.html', 'title': 'Hacker News'}, page_content=\"\\n\\n\\nHacker News\\n\\nHacker News\\nnew | past | comments | ask | show | jobs | submit \\nlogin\\n\\n\\n\\n\\n1. Snyk security researcher deploys malicious NPM packages targeting cursor.com (sourcecodered.com)\\n284 points by arkadiyt 10 hours ago  | hide | 145\\xa0comments \\n\\n\\n\\n2. ZFS 2.3.0 released with ZFS raidz expansion (github.com/openzfs)\\n83 points by scrp 1 hour ago  | hide | 23\\xa0comments \\n\\n\\n\\n3. The Plunge (2014) (grantland.com)\\n124 points by handfuloflight 6 hours ago  | hide | 14\\xa0comments \\n\\n\\n\\n4. Webtop â€“ Alpine,Ubuntu,Fedora,and Arch containers containing full desktop envs (linuxserver.io)\\n177 points by weitzj 9 hours ago  | hide | 27\\xa0comments \\n\\n\\n\\n5. I created an open-source Hardware Hacking Wiki â€“ with tutorials for beginners (hardbreak.wiki)\\n497 points by hw-f3nter 18 hours ago  | hide | 71\\xa0comments \\n\\n\\n\\n6. A secure distributed actor language (mistysystem.com)\\n31 points by m90 5 hours ago  | hide | 3\\xa0comments \\n\\n\\n\\n7. Dragonfly's extreme loop-the-loops (science.org)\\n66 points by pseudolus 8 hours ago  | hide | 22\\xa0comments \\n\\n\\n\\n8. Debugging: Indispensable rules for finding even the most elusive problems (2004) (dwheeler.com)\\n457 points by omkar-foss 20 hours ago  | hide | 200\\xa0comments \\n\\n\\n\\n9. voyage-code-3 (voyageai.com)\\n60 points by fzliu 9 hours ago  | hide | 19\\xa0comments \\n\\n\\n\\n10. Lines of code that will beat A/B testing every time (2012) (stevehanov.ca)\\n270 points by Kerrick 17 hours ago  | hide | 123\\xa0comments \\n\\n\\n\\n11. Fluid Simulation Pendant (mitxela.com)\\n308 points by sschueller 19 hours ago  | hide | 43\\xa0comments \\n\\n\\n\\n12. Campsite is now open source (github.com/campsite)\\n43 points by bpierre 7 hours ago  | hide | 27\\xa0comments \\n\\n\\n\\n13. How we used GPT-4o for image detection with 350 similar illustrations (olup-blog.pages.dev)\\n134 points by olup 13 hours ago  | hide | 53\\xa0comments \\n\\n\\n\\n14. Training AI models might not need enormous data centres (economist.com)\\n36 points by jkuria 6 hours ago  | hide | 9\\xa0comments \\n\\n\\n\\n15. What Is Treewidth? (ams.org)\\n5 points by RafelMri 2 hours ago  | hide | discuss \\n\\n\\n\\n16. A laptop stand made from a single sheet of recycled paper (core77.com)\\n274 points by surprisetalk 18 hours ago  | hide | 212\\xa0comments \\n\\n\\n\\n17. James Thomson on the Origins of the macOS Dock (daringfireball.net)\\n35 points by tosh 7 hours ago  | hide | 14\\xa0comments \\n\\n\\n\\n18. Can you complete the Oregon Trail if you wait at a river for 14272 years? (moral.net.au)\\n180 points by donohoe 20 hours ago  | hide | 88\\xa0comments \\n\\n\\n\\n19. Why Can't Programmers Be More Like Ants? Or a Lesson in Stigmergy (2015) (acm.org)\\n11 points by yamrzou 5 hours ago  | hide | 6\\xa0comments \\n\\n\\n\\n20. U.S. Employee Engagement Sinks to 10-Year Low (gallup.com)\\n8 points by jmsflknr 37 minutes ago  | hide | 1\\xa0comment \\n\\n\\n\\n21. Why is my CPU usage always 100%? (downtowndougbrown.com)\\n474 points by pncnmnp 1 day ago  | hide | 133\\xa0comments \\n\\n\\n\\n22. Sonos CEO steps down after app update debacle (reuters.com)\\n351 points by saaaaaam 13 hours ago  | hide | 382\\xa0comments \\n\\n\\n\\n23. Ships must practice celestial navigation (usni.org)\\n83 points by HR01 5 hours ago  | hide | 83\\xa0comments \\n\\n\\n\\n24. When a winter storm trapped a luxury passenger train near Donner Pass (smithsonianmag.com)\\n122 points by pseudolus 12 hours ago  | hide | 86\\xa0comments \\n\\n\\n\\n25. FreeBSD Suspend/Resume (vermaden.wordpress.com)\\n104 points by vermaden 16 hours ago  | hide | 43\\xa0comments \\n\\n\\n\\n26. AI Engineer Reading List (latent.space)\\n357 points by ingve 14 hours ago  | hide | 51\\xa0comments \\n\\n\\n\\n27. How corn syrup took over America (thehustle.co)\\n125 points by paulpauper 13 hours ago  | hide | 166\\xa0comments \\n\\n\\n\\n28. The Curious Gems of the River Thames (atlasobscura.com)\\n66 points by alt227 17 hours ago  | hide | 21\\xa0comments \\n\\n\\n\\n29. Detrimental Decibels: A Study of Noise Levels in Vancouver's SkyTrain System (2022) (ubc.ca)\\n39 points by luu 13 hours ago  | hide | 20\\xa0comments \\n\\n\\n\\n30.  Humanize Healthcare Content as Wyndly (YC W21) 's first content hire (dover.com)\\n15 hours ago | hide \\n\\n\\nMore \\n\\n\\n\\nGuidelines | FAQ | Lists | API | Security | Legal | Apply to YC | Contact\\nSearch:  \\n\\n\")]"
      ]
     },
     "execution_count": 20,
     "metadata": {},
     "output_type": "execute_result"
    }
   ],
   "source": [
    "data"
   ]
  },
  {
   "cell_type": "code",
   "execution_count": null,
   "id": "b7705fe7-3e98-40d7-896d-85b099ac51c9",
   "metadata": {},
   "outputs": [],
   "source": []
  },
  {
   "cell_type": "markdown",
   "id": "7b59b88e-32de-40df-8a8a-2409dbdaf46f",
   "metadata": {},
   "source": [
    "# PDF"
   ]
  },
  {
   "cell_type": "code",
   "execution_count": 21,
   "id": "f5fc8f17-11d4-4e35-a802-985da10b7f9c",
   "metadata": {},
   "outputs": [],
   "source": [
    "from langchain.document_loaders import PyPDFLoader"
   ]
  },
  {
   "cell_type": "code",
   "execution_count": 22,
   "id": "24e1aa82-130e-4fc8-b1f4-20a5f8a1b145",
   "metadata": {},
   "outputs": [],
   "source": [
    "loader = PyPDFLoader(\"data/green_energy.pdf\")"
   ]
  },
  {
   "cell_type": "code",
   "execution_count": 24,
   "id": "e6353e94-275c-4b9f-9a2e-78d012f66a56",
   "metadata": {},
   "outputs": [],
   "source": [
    "pages = loader.load_and_split()"
   ]
  },
  {
   "cell_type": "code",
   "execution_count": 27,
   "id": "63379ac7-64fc-45b8-bdc6-f402c6dc36eb",
   "metadata": {},
   "outputs": [
    {
     "name": "stdout",
     "output_type": "stream",
     "text": [
      "Microsoft demonstrates \n",
      "how to increase green \n",
      "energy in Ireland one \n",
      "rooftop at a time \n",
      "John Roach \n",
      "Sep 27, 2020 \n",
      "Solar panels being installed on the roofs of dozens of schools throughout \n",
      "Dublin, Ireland, reflect a novel front in the fight against global climate change, \n",
      "according to a senior software engineer and a sustainability lead at Microsoft. \n",
      "The technology company partnered with SSE Airtricity, Ireland’s largest \n",
      "provider of 100% green energy and a part of FTSE listed SSE Group, to install \n",
      "and manage the internet-connected solar panels, which are connected \n",
      "via Azure IoT to Microsoft Azure, a cloud computing platform. \n",
      " \n",
      "The software tools aggregate and analyze real-time data on energy generated \n",
      "by the solar panels, demonstrating a mechanism for Microsoft and other \n",
      "corporations to achieve sustainability goals and reduce the carbon footprint of \n",
      "the electric power grid. \n",
      " \n",
      "“We need to decarbonize the global economy to avoid catastrophic climate \n",
      "change,” said Conor Kelly, the software engineer who is leading the distributed \n",
      "solar energy project for Microsoft Azure IoT. “The first thing we can do, and \n",
      "the easiest thing we can do, is focus on electricity.”\n"
     ]
    }
   ],
   "source": [
    "print(pages[0].page_content)"
   ]
  },
  {
   "cell_type": "code",
   "execution_count": null,
   "id": "feeef8ae-97ac-4647-a48e-89570cb9cf87",
   "metadata": {},
   "outputs": [],
   "source": []
  },
  {
   "cell_type": "code",
   "execution_count": null,
   "id": "4c0d4629-30d5-4a85-b5d6-6ea8baf545fc",
   "metadata": {},
   "outputs": [],
   "source": []
  }
 ],
 "metadata": {
  "kernelspec": {
   "display_name": "Python 3 (ipykernel)",
   "language": "python",
   "name": "python3"
  },
  "language_info": {
   "codemirror_mode": {
    "name": "ipython",
    "version": 3
   },
   "file_extension": ".py",
   "mimetype": "text/x-python",
   "name": "python",
   "nbconvert_exporter": "python",
   "pygments_lexer": "ipython3",
   "version": "3.9.21"
  }
 },
 "nbformat": 4,
 "nbformat_minor": 5
}
