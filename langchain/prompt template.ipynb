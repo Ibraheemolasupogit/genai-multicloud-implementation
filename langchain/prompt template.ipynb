{
 "cells": [
  {
   "cell_type": "code",
   "execution_count": 1,
   "id": "d70d4b1d-d4e2-4ffa-830c-5634da09045a",
   "metadata": {},
   "outputs": [
    {
     "data": {
      "text/plain": [
       "True"
      ]
     },
     "execution_count": 1,
     "metadata": {},
     "output_type": "execute_result"
    }
   ],
   "source": [
    "import os\n",
    "from dotenv import load_dotenv\n",
    "load_dotenv()"
   ]
  },
  {
   "cell_type": "markdown",
   "id": "2c049f37-6c47-47b8-9db4-5153943aa1d0",
   "metadata": {},
   "source": [
    "# Langchain template"
   ]
  },
  {
   "cell_type": "code",
   "execution_count": 2,
   "id": "a6b2e5e2-a9d5-48a1-9219-0cbd5a6d1ad4",
   "metadata": {},
   "outputs": [],
   "source": [
    "from langchain import PromptTemplate"
   ]
  },
  {
   "cell_type": "code",
   "execution_count": 3,
   "id": "ccee5a42-e47d-4b3d-8ba9-8919a662d6c5",
   "metadata": {},
   "outputs": [
    {
     "data": {
      "text/plain": [
       "'Describe the weather today.'"
      ]
     },
     "execution_count": 3,
     "metadata": {},
     "output_type": "execute_result"
    }
   ],
   "source": [
    "no_input_prompt = PromptTemplate(input_variables=[], template=\"Describe the weather today.\")\n",
    "no_input_prompt.format()"
   ]
  },
  {
   "cell_type": "code",
   "execution_count": 6,
   "id": "ed1bf6d9-890a-47b1-a4c5-b0b5a8d90502",
   "metadata": {},
   "outputs": [
    {
     "data": {
      "text/plain": [
       "'Describe the weather today in Paris.'"
      ]
     },
     "execution_count": 6,
     "metadata": {},
     "output_type": "execute_result"
    }
   ],
   "source": [
    "one_input_prompt = PromptTemplate(input_variables=[\"city\"], \n",
    "                                  template=\"Describe the weather today in {city}.\")\n",
    "one_input_prompt.format(city=\"Paris\")"
   ]
  },
  {
   "cell_type": "code",
   "execution_count": 8,
   "id": "4c99b8c5-e752-49cc-b1b4-25d42ba54466",
   "metadata": {},
   "outputs": [
    {
     "data": {
      "text/plain": [
       "'Describe the weather at 10 AM in Paris.'"
      ]
     },
     "execution_count": 8,
     "metadata": {},
     "output_type": "execute_result"
    }
   ],
   "source": [
    "multi_input_prompt = PromptTemplate(input_variables=[\"city\", \"time\"], \n",
    "                                  template=\"Describe the weather at {time} in {city}.\")\n",
    "multi_input_prompt.format(city=\"Paris\", time=\"10 AM\")"
   ]
  },
  {
   "cell_type": "code",
   "execution_count": 9,
   "id": "64108ba2-b644-4bc7-8c23-f539189a0e60",
   "metadata": {},
   "outputs": [
    {
     "data": {
      "text/plain": [
       "'Describe the weather at 2 PM in Mumbai.'"
      ]
     },
     "execution_count": 9,
     "metadata": {},
     "output_type": "execute_result"
    }
   ],
   "source": [
    "multi_input_prompt.format(city=\"Mumbai\", time=\"2 PM\")"
   ]
  },
  {
   "cell_type": "code",
   "execution_count": null,
   "id": "37f0cf3c-6059-458f-a254-fcc8e11941d9",
   "metadata": {},
   "outputs": [],
   "source": []
  },
  {
   "cell_type": "markdown",
   "id": "a85a54f6-37f3-48c5-a527-4875cb67e57d",
   "metadata": {},
   "source": [
    "# Chat Model Templates"
   ]
  },
  {
   "cell_type": "code",
   "execution_count": 10,
   "id": "2b37b3c7-ba23-4469-b8e4-1b8bfb8bfc38",
   "metadata": {},
   "outputs": [],
   "source": [
    "from langchain.prompts import (\n",
    "    ChatPromptTemplate,\n",
    "    PromptTemplate,\n",
    "    SystemMessagePromptTemplate,\n",
    "    AIMessagePromptTemplate,\n",
    "    HumanMessagePromptTemplate,\n",
    ")\n",
    "from langchain.schema import (\n",
    "    AIMessage,\n",
    "    HumanMessage,\n",
    "    SystemMessage\n",
    ")\n"
   ]
  },
  {
   "cell_type": "code",
   "execution_count": 11,
   "id": "2100a6cf-fe30-4390-8357-594e7e6029e7",
   "metadata": {},
   "outputs": [],
   "source": [
    "system_template = \"You are an AI financial advisor specializing in {investment_type} advice for individuals with a budget of {budget}.\"\n",
    "system_message_prompt = SystemMessagePromptTemplate.from_template(system_template)"
   ]
  },
  {
   "cell_type": "code",
   "execution_count": 12,
   "id": "123602f5-a5d4-4112-8297-399257d32cc9",
   "metadata": {},
   "outputs": [
    {
     "data": {
      "text/plain": [
       "['budget', 'investment_type']"
      ]
     },
     "execution_count": 12,
     "metadata": {},
     "output_type": "execute_result"
    }
   ],
   "source": [
    "system_message_prompt.input_variables"
   ]
  },
  {
   "cell_type": "code",
   "execution_count": 13,
   "id": "e5127e5b-fea0-49fb-8a69-becae6aecf51",
   "metadata": {},
   "outputs": [],
   "source": [
    "human_template = \"{financial_query}\"\n",
    "human_message_prompt = HumanMessagePromptTemplate.from_template(human_template)"
   ]
  },
  {
   "cell_type": "code",
   "execution_count": 14,
   "id": "0c2373d7-5e7a-4b3f-81c3-7182e9ed3f2c",
   "metadata": {},
   "outputs": [
    {
     "data": {
      "text/plain": [
       "['financial_query']"
      ]
     },
     "execution_count": 14,
     "metadata": {},
     "output_type": "execute_result"
    }
   ],
   "source": [
    "human_message_prompt.input_variables"
   ]
  },
  {
   "cell_type": "code",
   "execution_count": 15,
   "id": "424f349e-a18a-4806-b29b-2072920d014e",
   "metadata": {},
   "outputs": [],
   "source": [
    "chat_prompt = ChatPromptTemplate.from_messages([system_message_prompt,\n",
    "                                 human_message_prompt])"
   ]
  },
  {
   "cell_type": "code",
   "execution_count": 16,
   "id": "b868e1d0-c0d4-4b4a-b5b1-d4f0b7f20a59",
   "metadata": {},
   "outputs": [
    {
     "data": {
      "text/plain": [
       "['budget', 'financial_query', 'investment_type']"
      ]
     },
     "execution_count": 16,
     "metadata": {},
     "output_type": "execute_result"
    }
   ],
   "source": [
    "chat_prompt.input_variables"
   ]
  },
  {
   "cell_type": "code",
   "execution_count": 17,
   "id": "add5af86-b9f0-4038-ae7f-003d4c29de76",
   "metadata": {},
   "outputs": [],
   "source": [
    "request = chat_prompt.format_prompt(investment_type= \"retirement\",\n",
    "                         budget = \"50000$\",\n",
    "                         financial_query = \"In Retirment How can i Save money so that every year i will have one  vacation.\")"
   ]
  },
  {
   "cell_type": "code",
   "execution_count": 18,
   "id": "a6b23122-2c2c-4280-b419-e61d2a458040",
   "metadata": {},
   "outputs": [
    {
     "data": {
      "text/plain": [
       "ChatPromptValue(messages=[SystemMessage(content='You are an AI financial advisor specializing in retirement advice for individuals with a budget of 50000$.', additional_kwargs={}, response_metadata={}), HumanMessage(content='In Retirment How can i Save money so that every year i will have one  vacation.', additional_kwargs={}, response_metadata={})])"
      ]
     },
     "execution_count": 18,
     "metadata": {},
     "output_type": "execute_result"
    }
   ],
   "source": [
    "request"
   ]
  },
  {
   "cell_type": "code",
   "execution_count": 19,
   "id": "c8933e32-b1a9-48ad-b156-feb6a430a4b4",
   "metadata": {},
   "outputs": [],
   "source": [
    "from langchain_openai.chat_models import ChatOpenAI\n",
    "chat = ChatOpenAI()\n",
    "result = chat.invoke(request)"
   ]
  },
  {
   "cell_type": "code",
   "execution_count": 21,
   "id": "213de671-40b3-45b4-86e3-e5c3982679c7",
   "metadata": {},
   "outputs": [
    {
     "data": {
      "text/plain": [
       "\"To achieve your goal of being able to afford a vacation every year in retirement, it's important to save and plan ahead. Here are some tips to help you save money for your annual vacation:\\n\\n1. Set a Budget: Determine how much you can afford to spend on a vacation each year. Consider your total retirement budget and expenses to come up with a realistic amount for your annual vacation fund.\\n\\n2. Start Early: The earlier you start saving for your vacations, the more time your money will have to grow through compounding interest. Set up a dedicated savings account specifically for your vacation fund.\\n\\n3. Automate Savings: Consider setting up automatic transfers from your checking account to your vacation savings account each month. This way, you won't have to think about saving - it will happen automatically.\\n\\n4. Cut Costs: Look for ways to cut costs in your daily life to free up more money for your vacation fund. This could include reducing discretionary spending, dining out less frequently, or finding cheaper alternatives for your regular expenses.\\n\\n5. Take Advantage of Rewards: Use credit cards that offer travel rewards to earn points or cash back on your everyday purchases. This can help offset the costs of your vacations.\\n\\n6. Plan Affordable Vacations: When planning your annual vacation, look for affordable destinations and accommodations. Consider traveling during off-peak seasons, using travel deals and discounts, and exploring budget-friendly activities.\\n\\n7. Prioritize Your Spending: Make sure that saving for your vacation fund is a financial priority. Cut back on unnecessary expenses to ensure that you have enough money set aside for your annual vacations.\\n\\nBy following these tips and staying committed to your savings goals, you can build a fund that allows you to enjoy a vacation every year during retirement.\""
      ]
     },
     "execution_count": 21,
     "metadata": {},
     "output_type": "execute_result"
    }
   ],
   "source": [
    "result.content"
   ]
  },
  {
   "cell_type": "code",
   "execution_count": null,
   "id": "31caa19c-a33d-4899-8d6e-c6dfaecb999f",
   "metadata": {},
   "outputs": [],
   "source": []
  }
 ],
 "metadata": {
  "kernelspec": {
   "display_name": "Python 3 (ipykernel)",
   "language": "python",
   "name": "python3"
  },
  "language_info": {
   "codemirror_mode": {
    "name": "ipython",
    "version": 3
   },
   "file_extension": ".py",
   "mimetype": "text/x-python",
   "name": "python",
   "nbconvert_exporter": "python",
   "pygments_lexer": "ipython3",
   "version": "3.9.21"
  }
 },
 "nbformat": 4,
 "nbformat_minor": 5
}
