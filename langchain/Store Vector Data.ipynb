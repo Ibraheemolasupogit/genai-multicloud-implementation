{
 "cells": [
  {
   "cell_type": "markdown",
   "id": "48b385e4-0da2-4be2-98a1-90b0289a2c38",
   "metadata": {},
   "source": [
    "# Store Vector Data"
   ]
  },
  {
   "cell_type": "code",
   "execution_count": 1,
   "id": "650480d5-a5a3-477a-880b-152fe9c0bed6",
   "metadata": {},
   "outputs": [
    {
     "data": {
      "text/plain": [
       "True"
      ]
     },
     "execution_count": 1,
     "metadata": {},
     "output_type": "execute_result"
    }
   ],
   "source": [
    "import os\n",
    "from dotenv import load_dotenv\n",
    "load_dotenv()"
   ]
  },
  {
   "cell_type": "code",
   "execution_count": 2,
   "id": "511e1d07-76ed-4ae9-96ae-4a89f9396c56",
   "metadata": {},
   "outputs": [],
   "source": [
    "import chromadb"
   ]
  },
  {
   "cell_type": "code",
   "execution_count": 3,
   "id": "073ea714-ee0c-4efd-962c-261a52d20344",
   "metadata": {},
   "outputs": [
    {
     "data": {
      "text/plain": [
       "'0.5.20'"
      ]
     },
     "execution_count": 3,
     "metadata": {},
     "output_type": "execute_result"
    }
   ],
   "source": [
    "chromadb.__version__"
   ]
  },
  {
   "cell_type": "code",
   "execution_count": 4,
   "id": "ee79cb6b-0da8-45b9-bd6e-3ed8020e5a75",
   "metadata": {},
   "outputs": [],
   "source": [
    "from langchain.embeddings import OpenAIEmbeddings\n",
    "from langchain.text_splitter import CharacterTextSplitter\n",
    "from langchain.vectorstores import Chroma\n",
    "from langchain.document_loaders import TextLoader"
   ]
  },
  {
   "cell_type": "code",
   "execution_count": 9,
   "id": "7b3dc4a5-4e1a-438c-a5ad-d748e051bbdb",
   "metadata": {},
   "outputs": [],
   "source": [
    "loader = TextLoader(\"data/langchain.txt\", encoding=\"utf-8\")\n",
    "documents = loader.load()"
   ]
  },
  {
   "cell_type": "code",
   "execution_count": 10,
   "id": "5b8fd983-17b7-4aa0-98a7-f5db9201d286",
   "metadata": {},
   "outputs": [],
   "source": [
    "text_splitter = CharacterTextSplitter.from_tiktoken_encoder(chunk_size=500)\n",
    "docs = text_splitter.split_documents(documents)"
   ]
  },
  {
   "cell_type": "code",
   "execution_count": 11,
   "id": "15c5fad2-463a-44ce-9577-cf69f26450ab",
   "metadata": {},
   "outputs": [
    {
     "data": {
      "text/plain": [
       "6"
      ]
     },
     "execution_count": 11,
     "metadata": {},
     "output_type": "execute_result"
    }
   ],
   "source": [
    "len(docs)"
   ]
  },
  {
   "cell_type": "code",
   "execution_count": 12,
   "id": "dfdb329d-d66b-4a65-b38a-a90d90c9e8bc",
   "metadata": {},
   "outputs": [
    {
     "name": "stderr",
     "output_type": "stream",
     "text": [
      "C:\\Users\\ankit\\AppData\\Local\\Temp\\ipykernel_1800\\2116297780.py:1: LangChainDeprecationWarning: The class `OpenAIEmbeddings` was deprecated in LangChain 0.0.9 and will be removed in 1.0. An updated version of the class exists in the :class:`~langchain-openai package and should be used instead. To use it run `pip install -U :class:`~langchain-openai` and import as `from :class:`~langchain_openai import OpenAIEmbeddings``.\n",
      "  embedding_function = OpenAIEmbeddings()\n"
     ]
    }
   ],
   "source": [
    "embedding_function = OpenAIEmbeddings()"
   ]
  },
  {
   "cell_type": "code",
   "execution_count": 13,
   "id": "4b8087f9-aa93-42f2-a3a3-9a6bbdbd2adf",
   "metadata": {},
   "outputs": [],
   "source": [
    "db = Chroma.from_documents(docs, embedding_function, persist_directory='./my_first_vecdb' )"
   ]
  },
  {
   "cell_type": "code",
   "execution_count": 14,
   "id": "7c693691-b5ff-4f08-9921-0323460e6943",
   "metadata": {},
   "outputs": [
    {
     "name": "stderr",
     "output_type": "stream",
     "text": [
      "C:\\Users\\ankit\\AppData\\Local\\Temp\\ipykernel_1800\\123899826.py:1: LangChainDeprecationWarning: Since Chroma 0.4.x the manual persistence method is no longer supported as docs are automatically persisted.\n",
      "  db.persist()\n"
     ]
    }
   ],
   "source": [
    "db.persist()"
   ]
  },
  {
   "cell_type": "markdown",
   "id": "997600d7-55c9-4c7e-9c81-d5742afa1da1",
   "metadata": {},
   "source": [
    "# Load Embeddings from Disk"
   ]
  },
  {
   "cell_type": "code",
   "execution_count": 15,
   "id": "5c4023d8-3b13-4ce4-9678-084a177ac93e",
   "metadata": {},
   "outputs": [
    {
     "name": "stderr",
     "output_type": "stream",
     "text": [
      "C:\\Users\\ankit\\AppData\\Local\\Temp\\ipykernel_1800\\1001634654.py:1: LangChainDeprecationWarning: The class `Chroma` was deprecated in LangChain 0.2.9 and will be removed in 1.0. An updated version of the class exists in the :class:`~langchain-chroma package and should be used instead. To use it run `pip install -U :class:`~langchain-chroma` and import as `from :class:`~langchain_chroma import Chroma``.\n",
      "  db_connection= Chroma(persist_directory='./my_first_vecdb', embedding_function=embedding_function)\n"
     ]
    }
   ],
   "source": [
    "db_connection= Chroma(persist_directory='./my_first_vecdb', embedding_function=embedding_function)"
   ]
  },
  {
   "cell_type": "code",
   "execution_count": 16,
   "id": "c2a35433-9211-4487-abda-3ef4aea02413",
   "metadata": {},
   "outputs": [],
   "source": [
    "new_doc = \"How do chains in LangChain streamline complex tasks that require multiple steps or logic branches?\""
   ]
  },
  {
   "cell_type": "code",
   "execution_count": 17,
   "id": "56d7180a-3d37-459f-a3f7-58917ebcf2bf",
   "metadata": {},
   "outputs": [],
   "source": [
    "docs = db_connection.similarity_search(new_doc)"
   ]
  },
  {
   "cell_type": "code",
   "execution_count": 18,
   "id": "e3cad35b-8504-4866-bb6f-6d023a1960f1",
   "metadata": {},
   "outputs": [
    {
     "data": {
      "text/plain": [
       "4"
      ]
     },
     "execution_count": 18,
     "metadata": {},
     "output_type": "execute_result"
    }
   ],
   "source": [
    "len(docs)"
   ]
  },
  {
   "cell_type": "code",
   "execution_count": 20,
   "id": "1bfbd687-cf31-42a2-85d1-f723e53aa73d",
   "metadata": {},
   "outputs": [
    {
     "data": {
      "text/plain": [
       "'7. Chains and Flow Control\\nLangChain’s Chain objects act like pipelines, linking multiple steps together. A typical chain might:\\n\\nTake user input.\\nSplit or parse the text.\\nEmbed the text to find relevant documents.\\nPass those documents and user input into a prompt template for generation.\\nReturn a refined answer to the user.\\nMore advanced “agents” can branch in their logic. For example, an agent might decide to do sentiment analysis first, then use a summarization tool, and finally convert the result into a user-facing answer—making decisions on the fly based on intermediate outputs.\\n\\n8. Real-World Applications\\nCustomer Support Chatbots: Integrate with existing knowledge bases (e.g., product manuals, FAQs), to answer complex user queries with correct references.\\nDocument Analysis and Summaries: Researchers or analysts can summarize large collections of documents, retaining the ability to do deep dives and retrieval-based queries.\\nCoding Assistants: Provide step-by-step solutions, scanning relevant documentation or example repositories for insight.\\nEducational Tools: Adaptive tutoring systems that use RAG to teach or test students with relevant content from textbooks, articles, or curated websites.\\n9. Challenges and Considerations\\nWhile LangChain simplifies many aspects of working with LLMs, developers still need to consider:\\n\\nModel Limitations: Large language models have token limits and can produce incorrect or “hallucinated” outputs.\\nAPI Costs: Frequent calls to cloud-based LLM APIs can be expensive, so caching intermediate results may be necessary.\\nData Privacy: Embedding and sending data to an external API must adhere to privacy regulations and handle sensitive information responsibly.\\nMaintenance: As new models and techniques emerge, keeping up-to-date with the latest integration and ensuring backward compatibility can be challenging.\\n10. Future Directions\\nLangChain’s roadmap is shaped by the evolving needs of the LLM ecosystem:'"
      ]
     },
     "execution_count": 20,
     "metadata": {},
     "output_type": "execute_result"
    }
   ],
   "source": [
    "docs[0].page_content"
   ]
  },
  {
   "cell_type": "markdown",
   "id": "d3f6e0b7-290b-406c-bfdc-adaa2d02b3f2",
   "metadata": {},
   "source": [
    "# Add New Document"
   ]
  },
  {
   "cell_type": "code",
   "execution_count": 22,
   "id": "2ec49cbc-04dc-408f-933d-eeb091d16ab5",
   "metadata": {},
   "outputs": [],
   "source": [
    "# load the document and split it into chunks\n",
    "loader = TextLoader(\"data/cricket.txt\", encoding=\"utf8\")\n",
    "documents = loader.load()\n",
    "# split it into chunks\n",
    "text_splitter = CharacterTextSplitter.from_tiktoken_encoder(chunk_size=500)\n",
    "docs = text_splitter.split_documents(documents)\n",
    "# load it into Chroma\n",
    "db = Chroma.from_documents(docs, embedding_function,persist_directory='./my_first_vecdb')"
   ]
  },
  {
   "cell_type": "code",
   "execution_count": 23,
   "id": "e051c4f5-dacb-4e76-9afc-4be1ee5a0a3a",
   "metadata": {},
   "outputs": [
    {
     "data": {
      "text/plain": [
       "Document(metadata={'source': 'data/cricket.txt'}, page_content='However, the future of cricket appears bright. With technological innovations refining the viewing experience and new markets embracing the sport, cricket evolves while retaining its historical charm. Enthusiasts point to increased inclusivity, better governance, and adaptive formats as steps toward continued global growth.\\n\\n---\\n\\n## Conclusion\\n\\nCricket’s enduring appeal lies in its unique combination of tradition, strategy, and passion. Born centuries ago in England, it has grown into a global phenomenon, captivating audiences with every swing of the bat and every bowl. The sport’s ability to adapt—evident in its multiple formats and technological advancements—ensures it remains dynamic and relevant. From tense Test matches that push players to their limits over five days, to enthralling T20 clashes decided in a matter of hours, cricket offers something for everyone.\\n\\nAt its heart, however, cricket remains a game steeped in respect: respect for opponents, for umpires, and for the spirit of sportsmanship. Its fanbase transcends regional and cultural divides, celebrating both individual brilliance and collective teamwork. With rising stars, deeper investment in women’s cricket, and ongoing innovations in play, cricket shows no signs of slowing down. For millions, it is not just a sport—it is a way of life, a shared language of competition, emotion, and community.')"
      ]
     },
     "execution_count": 23,
     "metadata": {},
     "output_type": "execute_result"
    }
   ],
   "source": [
    "docs = db.similarity_search(\"sachin\")\n",
    "docs[0]"
   ]
  },
  {
   "cell_type": "code",
   "execution_count": 24,
   "id": "41142915-e491-4d32-aa0b-a11bd69d03a1",
   "metadata": {
    "collapsed": true,
    "jupyter": {
     "outputs_hidden": true
    }
   },
   "outputs": [
    {
     "data": {
      "text/plain": [
       "Document(metadata={'source': 'data/langchain.txt'}, page_content='An In-Depth Look at LangChain and Its Role in Modern LLM Applications\\n\\nLangChain is a powerful framework designed to streamline the development of applications that leverage large language models (LLMs). Since the release of modern LLMs such as GPT-3.5, GPT-4, and other transformer-based architectures, developers and researchers have looked for ways to integrate these models into real-world applications. LangChain addresses this need by offering a cohesive set of tools and abstractions that enable efficient prompt management, memory handling, retrieval-augmented generation, and more.\\n\\n1. The Rise of Large Language Models\\nOver the past few years, transformer-based models have dramatically improved natural language understanding and generation. Capable of composing coherent text, answering complex questions, and even reasoning about real-world scenarios, these models power a range of applications such as chatbots, question-answering systems, automated text summarizers, and creative writing assistants. However, integrating LLMs into production settings can be challenging because:\\n\\nPrompt Engineering: Crafting prompts (inputs to the model) effectively influences how well an LLM performs.\\nContext Limitations: Models have context windows that limit how much text they can process in a single request.\\nLong-Term Memory: When dealing with extended conversations or extensive documents, developers need methods to maintain context or retrieve relevant information efficiently.\\nComplex Pipelines: Many applications require multiple steps, from ingestion and parsing of external data to generating final user-facing responses.\\nLangChain was created to address these challenges by providing composable components and abstractions that simplify building advanced LLM-driven applications.\\n\\n2. What is LangChain?\\nAt its core, LangChain is a framework that combines various components—such as text splitters, memory modules, retrievers, prompt templates, and chain structures—into a cohesive system. These components allow developers to break down the process of creating advanced LLM applications into manageable steps. By doing so, LangChain provides both a high-level workflow for quick prototypes and a low-level toolkit for customizing pipelines to suit specific project requirements.')"
      ]
     },
     "execution_count": 24,
     "metadata": {},
     "output_type": "execute_result"
    }
   ],
   "source": [
    "docs = db.similarity_search(\"langsmith\")\n",
    "docs[0]"
   ]
  },
  {
   "cell_type": "markdown",
   "id": "b3808cd1-bcdd-4555-9888-ab05d1abb40b",
   "metadata": {},
   "source": [
    "# Vector Store Retriever"
   ]
  },
  {
   "cell_type": "code",
   "execution_count": 25,
   "id": "732a0a76-585a-4b9a-b902-05626e17187a",
   "metadata": {},
   "outputs": [],
   "source": [
    "from langchain.vectorstores import Chroma\n",
    "from langchain_openai import OpenAIEmbeddings"
   ]
  },
  {
   "cell_type": "code",
   "execution_count": 26,
   "id": "f1990e2b-6d0c-45be-a7a3-0f8f6def321a",
   "metadata": {},
   "outputs": [],
   "source": [
    "embedding_function = OpenAIEmbeddings()"
   ]
  },
  {
   "cell_type": "code",
   "execution_count": 27,
   "id": "40fdc219-0057-409c-b5d2-c7d897a4491c",
   "metadata": {},
   "outputs": [],
   "source": [
    "db_connection= Chroma(persist_directory='./my_first_vecdb', embedding_function=embedding_function)"
   ]
  },
  {
   "cell_type": "code",
   "execution_count": 34,
   "id": "2929168d-3a5b-49fc-8412-fd2684f269bb",
   "metadata": {},
   "outputs": [
    {
     "name": "stdout",
     "output_type": "stream",
     "text": [
      "3\n"
     ]
    },
    {
     "data": {
      "text/plain": [
       "Document(metadata={'source': 'data/langchain.txt'}, page_content='An In-Depth Look at LangChain and Its Role in Modern LLM Applications\\n\\nLangChain is a powerful framework designed to streamline the development of applications that leverage large language models (LLMs). Since the release of modern LLMs such as GPT-3.5, GPT-4, and other transformer-based architectures, developers and researchers have looked for ways to integrate these models into real-world applications. LangChain addresses this need by offering a cohesive set of tools and abstractions that enable efficient prompt management, memory handling, retrieval-augmented generation, and more.\\n\\n1. The Rise of Large Language Models\\nOver the past few years, transformer-based models have dramatically improved natural language understanding and generation. Capable of composing coherent text, answering complex questions, and even reasoning about real-world scenarios, these models power a range of applications such as chatbots, question-answering systems, automated text summarizers, and creative writing assistants. However, integrating LLMs into production settings can be challenging because:\\n\\nPrompt Engineering: Crafting prompts (inputs to the model) effectively influences how well an LLM performs.\\nContext Limitations: Models have context windows that limit how much text they can process in a single request.\\nLong-Term Memory: When dealing with extended conversations or extensive documents, developers need methods to maintain context or retrieve relevant information efficiently.\\nComplex Pipelines: Many applications require multiple steps, from ingestion and parsing of external data to generating final user-facing responses.\\nLangChain was created to address these challenges by providing composable components and abstractions that simplify building advanced LLM-driven applications.\\n\\n2. What is LangChain?\\nAt its core, LangChain is a framework that combines various components—such as text splitters, memory modules, retrievers, prompt templates, and chain structures—into a cohesive system. These components allow developers to break down the process of creating advanced LLM applications into manageable steps. By doing so, LangChain provides both a high-level workflow for quick prototypes and a low-level toolkit for customizing pipelines to suit specific project requirements.')"
      ]
     },
     "execution_count": 34,
     "metadata": {},
     "output_type": "execute_result"
    }
   ],
   "source": [
    "retriever = db_connection.as_retriever(\n",
    "    search_type=\"similarity_score_threshold\", \n",
    "    search_kwargs={\"score_threshold\": 0.68, \"k\": 3}\n",
    ")\n",
    "\n",
    "docs = retriever.invoke(input=\"llm\")\n",
    "print(len(docs))\n",
    "docs[0]"
   ]
  },
  {
   "cell_type": "markdown",
   "id": "b0bf2a0b-fbc1-4f52-bafb-3f2c10076c15",
   "metadata": {},
   "source": [
    "# Multi Query Retriever"
   ]
  },
  {
   "cell_type": "code",
   "execution_count": 35,
   "id": "960913e3-83db-429c-ac2a-e19a6bd8a98a",
   "metadata": {},
   "outputs": [],
   "source": [
    "from langchain_openai import ChatOpenAI\n",
    "from langchain.retrievers.multi_query import MultiQueryRetriever\n",
    "question=\"what is the cricket use?\"\n",
    "llm = ChatOpenAI(temperature=0)\n",
    "retriever_from_llm = MultiQueryRetriever.from_llm(retriever=db.as_retriever(),llm=llm)"
   ]
  },
  {
   "cell_type": "code",
   "execution_count": 36,
   "id": "105d03fd-65c2-454b-9bf6-6e89ff61a37a",
   "metadata": {},
   "outputs": [
    {
     "name": "stderr",
     "output_type": "stream",
     "text": [
      "INFO:langchain.retrievers.multi_query:Generated queries: ['1. What are the various applications of cricket?', '2. How is cricket utilized in different contexts?', '3. In what ways is cricket commonly used?']\n"
     ]
    }
   ],
   "source": [
    "# Set logging for the queries\n",
    "import logging\n",
    "logging.basicConfig()\n",
    "logging.getLogger('langchain.retrievers.multi_query').setLevel(logging.INFO)\n",
    "unique_docs = retriever_from_llm.invoke(input=question)"
   ]
  },
  {
   "cell_type": "code",
   "execution_count": 37,
   "id": "319e01d2-ff26-423c-adf9-5d272ec4dba5",
   "metadata": {},
   "outputs": [
    {
     "data": {
      "text/plain": [
       "5"
      ]
     },
     "execution_count": 37,
     "metadata": {},
     "output_type": "execute_result"
    }
   ],
   "source": [
    "len(unique_docs)"
   ]
  },
  {
   "cell_type": "code",
   "execution_count": 38,
   "id": "2a7abe9a-6a03-4c27-bbcb-edce4532cc58",
   "metadata": {},
   "outputs": [
    {
     "name": "stdout",
     "output_type": "stream",
     "text": [
      "---\n",
      "\n",
      "## 7. Evolving Nature of the Sport\n",
      "\n",
      "Cricket continues to evolve with the introduction of new formats, technology, and professional structures:\n",
      "\n",
      "1. **Technology in Cricket**:  \n",
      "   - Tools like Hawk-Eye, Snickometer, and Hot Spot help with more accurate umpiring decisions.  \n",
      "   - The Decision Review System (DRS) allows players and umpires to rectify mistakes, reducing controversy and increasing fairness.\n",
      "\n",
      "2. **Rise of T20 Leagues**:  \n",
      "   - Domestic T20 leagues generate immense revenue and fan engagement, attracting global superstars.  \n",
      "   - This commercial success often raises debates on how it influences international cricket schedules and player availability.\n",
      "\n",
      "3. **Women’s Cricket**:  \n",
      "   - Growing rapidly, especially with high-profile tournaments like the Women’s World Cup and T20 World Cup.  \n",
      "   - Increased media coverage, sponsorship deals, and professional contracts have boosted opportunities for female cricketers worldwide.\n",
      "\n",
      "4. **Inclusivity and Global Spread**:  \n",
      "   - Emerging nations like Afghanistan and Ireland have gained Test status, showing that the sport is breaking traditional boundaries.  \n",
      "   - The ICC has ongoing development programs for countries aspiring to join the competitive international arena.\n",
      "\n",
      "---\n",
      "\n",
      "## 8. Cultural and Social Impact\n",
      "\n",
      "For many communities, cricket serves as a unifying force. It brings diverse groups of people together in fervent support of their teams. Beyond mere entertainment, the game can drive social change, charity work, and national pride. Top players often become role models, using their influence to support philanthropic causes. In regions like South Asia, children grow up playing street cricket, illustrating the sport’s grassroots appeal that transcends economic or class divisions.\n",
      "\n",
      "---\n",
      "\n",
      "## 9. Challenges and Future Outlook\n",
      "\n",
      "Despite its broad global appeal, cricket faces several challenges:\n"
     ]
    }
   ],
   "source": [
    "print(unique_docs[0].page_content)"
   ]
  },
  {
   "cell_type": "code",
   "execution_count": null,
   "id": "8cb1fa1a-e67d-45ad-899e-9cdc79c2a50f",
   "metadata": {},
   "outputs": [],
   "source": []
  }
 ],
 "metadata": {
  "kernelspec": {
   "display_name": "Python 3 (ipykernel)",
   "language": "python",
   "name": "python3"
  },
  "language_info": {
   "codemirror_mode": {
    "name": "ipython",
    "version": 3
   },
   "file_extension": ".py",
   "mimetype": "text/x-python",
   "name": "python",
   "nbconvert_exporter": "python",
   "pygments_lexer": "ipython3",
   "version": "3.9.21"
  }
 },
 "nbformat": 4,
 "nbformat_minor": 5
}
