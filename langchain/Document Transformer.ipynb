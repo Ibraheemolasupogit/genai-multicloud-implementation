{
 "cells": [
  {
   "cell_type": "code",
   "execution_count": 2,
   "id": "35cfbe74-aec7-4828-a41e-c0590fa36bc3",
   "metadata": {},
   "outputs": [],
   "source": [
    "with open('data/sample.txt') as file:\n",
    "    langchain_text = file.read()"
   ]
  },
  {
   "cell_type": "code",
   "execution_count": 3,
   "id": "e3b12d1b-e0f8-42be-9ad9-d8c4f39cb106",
   "metadata": {},
   "outputs": [
    {
     "data": {
      "text/plain": [
       "916"
      ]
     },
     "execution_count": 3,
     "metadata": {},
     "output_type": "execute_result"
    }
   ],
   "source": [
    "len(langchain_text)"
   ]
  },
  {
   "cell_type": "code",
   "execution_count": 5,
   "id": "feb3f74d-1028-43f7-83e0-695a7322af69",
   "metadata": {},
   "outputs": [
    {
     "data": {
      "text/plain": [
       "136"
      ]
     },
     "execution_count": 5,
     "metadata": {},
     "output_type": "execute_result"
    }
   ],
   "source": [
    "len(langchain_text.split())"
   ]
  },
  {
   "cell_type": "markdown",
   "id": "46f73775-866d-483b-a365-cbc87f3f102b",
   "metadata": {},
   "source": [
    "# Split by Character"
   ]
  },
  {
   "cell_type": "code",
   "execution_count": 6,
   "id": "6baad375-6293-4df6-ba0b-634f2b211310",
   "metadata": {},
   "outputs": [],
   "source": [
    "from langchain.text_splitter import CharacterTextSplitter"
   ]
  },
  {
   "cell_type": "code",
   "execution_count": 18,
   "id": "148681c7-8f41-4473-8ecd-c1742788f76a",
   "metadata": {},
   "outputs": [],
   "source": [
    "text_splitter = CharacterTextSplitter(separator=\"\\n\\n\", chunk_size=250)"
   ]
  },
  {
   "cell_type": "code",
   "execution_count": 19,
   "id": "78025224-26f4-420e-85c5-ba2788043407",
   "metadata": {},
   "outputs": [
    {
     "name": "stderr",
     "output_type": "stream",
     "text": [
      "Created a chunk of size 644, which is longer than the specified 250\n"
     ]
    }
   ],
   "source": [
    "texts = text_splitter.create_documents([langchain_text])"
   ]
  },
  {
   "cell_type": "code",
   "execution_count": 20,
   "id": "4b84e454-9804-4267-a1d5-7f7d1f105871",
   "metadata": {},
   "outputs": [
    {
     "data": {
      "text/plain": [
       "3"
      ]
     },
     "execution_count": 20,
     "metadata": {},
     "output_type": "execute_result"
    }
   ],
   "source": [
    "len(texts)"
   ]
  },
  {
   "cell_type": "code",
   "execution_count": 21,
   "id": "5a5e4cb8-515c-4a17-8061-e413959e42f5",
   "metadata": {},
   "outputs": [
    {
     "data": {
      "text/plain": [
       "\"LangChain was launched in October 2022 as an open source project by Harrison Chase, while working at machine learning startup Robust Intelligence. The project quickly garnered popularity,[3] with improvements from hundreds of contributors on GitHub, trending discussions on Twitter, lively activity on the project's Discord server, many YouTube tutorials, and meetups in San Francisco and London. In April 2023, LangChain had incorporated and the new startup raised over $20 million in funding at a valuation of at least $200 million from venture firm Sequoia Capital, a week after announcing a $10 million seed investment from Benchmark.[4][5]\""
      ]
     },
     "execution_count": 21,
     "metadata": {},
     "output_type": "execute_result"
    }
   ],
   "source": [
    "texts[0].page_content"
   ]
  },
  {
   "cell_type": "code",
   "execution_count": 22,
   "id": "8410cf25-8410-4755-84e8-2f3383714300",
   "metadata": {},
   "outputs": [
    {
     "data": {
      "text/plain": [
       "'In the third quarter of 2023, the LangChain Expression Language (LCEL) was introduced, which provides a declarative way to define chains of actions.[6][7]'"
      ]
     },
     "execution_count": 22,
     "metadata": {},
     "output_type": "execute_result"
    }
   ],
   "source": [
    "texts[1].page_content"
   ]
  },
  {
   "cell_type": "code",
   "execution_count": 23,
   "id": "cad70375-a569-41b2-8465-1f425adbca90",
   "metadata": {},
   "outputs": [
    {
     "data": {
      "text/plain": [
       "'In October 2023 LangChain introduced LangServe, a deployment tool to host LCEL code as a production-ready API.[8]'"
      ]
     },
     "execution_count": 23,
     "metadata": {},
     "output_type": "execute_result"
    }
   ],
   "source": [
    "texts[2].page_content"
   ]
  },
  {
   "cell_type": "code",
   "execution_count": 16,
   "id": "b395b0f8-c800-4040-a7cf-be7d68de6048",
   "metadata": {},
   "outputs": [
    {
     "ename": "IndexError",
     "evalue": "list index out of range",
     "output_type": "error",
     "traceback": [
      "\u001b[1;31m---------------------------------------------------------------------------\u001b[0m",
      "\u001b[1;31mIndexError\u001b[0m                                Traceback (most recent call last)",
      "Cell \u001b[1;32mIn[16], line 1\u001b[0m\n\u001b[1;32m----> 1\u001b[0m \u001b[43mtexts\u001b[49m\u001b[43m[\u001b[49m\u001b[38;5;241;43m3\u001b[39;49m\u001b[43m]\u001b[49m\u001b[38;5;241m.\u001b[39mpage_content\n",
      "\u001b[1;31mIndexError\u001b[0m: list index out of range"
     ]
    }
   ],
   "source": [
    "texts[3].page_content"
   ]
  },
  {
   "cell_type": "code",
   "execution_count": null,
   "id": "ea2a3e31-305e-47ad-b654-ce4fac43ece7",
   "metadata": {},
   "outputs": [],
   "source": []
  },
  {
   "cell_type": "markdown",
   "id": "1712d3bb-0807-4ab9-80cc-16ba0ed16aa2",
   "metadata": {},
   "source": [
    "# Split by Token"
   ]
  },
  {
   "cell_type": "code",
   "execution_count": 29,
   "id": "62209130-bb3a-4301-a926-d57e25949f00",
   "metadata": {},
   "outputs": [],
   "source": [
    "text_splitter = CharacterTextSplitter.from_tiktoken_encoder(chunk_size = 100, chunk_overlap=15) "
   ]
  },
  {
   "cell_type": "code",
   "execution_count": 30,
   "id": "da8c0c4f-67a2-4bf5-a027-037dd7a2a6f4",
   "metadata": {},
   "outputs": [
    {
     "name": "stderr",
     "output_type": "stream",
     "text": [
      "Created a chunk of size 126, which is longer than the specified 100\n"
     ]
    }
   ],
   "source": [
    "texts = text_splitter.split_text(langchain_text)"
   ]
  },
  {
   "cell_type": "code",
   "execution_count": 31,
   "id": "350f3d8b-2da6-405f-bbc8-852110497541",
   "metadata": {},
   "outputs": [
    {
     "data": {
      "text/plain": [
       "2"
      ]
     },
     "execution_count": 31,
     "metadata": {},
     "output_type": "execute_result"
    }
   ],
   "source": [
    "len(texts)"
   ]
  },
  {
   "cell_type": "code",
   "execution_count": 32,
   "id": "a981e730-d5f8-4f3a-8dd7-175593f68a6d",
   "metadata": {},
   "outputs": [
    {
     "data": {
      "text/plain": [
       "\"LangChain was launched in October 2022 as an open source project by Harrison Chase, while working at machine learning startup Robust Intelligence. The project quickly garnered popularity,[3] with improvements from hundreds of contributors on GitHub, trending discussions on Twitter, lively activity on the project's Discord server, many YouTube tutorials, and meetups in San Francisco and London. In April 2023, LangChain had incorporated and the new startup raised over $20 million in funding at a valuation of at least $200 million from venture firm Sequoia Capital, a week after announcing a $10 million seed investment from Benchmark.[4][5]\""
      ]
     },
     "execution_count": 32,
     "metadata": {},
     "output_type": "execute_result"
    }
   ],
   "source": [
    "texts[0]"
   ]
  },
  {
   "cell_type": "code",
   "execution_count": 33,
   "id": "3cbaf9fa-1425-4b22-a2e1-88c6405c2294",
   "metadata": {},
   "outputs": [
    {
     "data": {
      "text/plain": [
       "'In the third quarter of 2023, the LangChain Expression Language (LCEL) was introduced, which provides a declarative way to define chains of actions.[6][7]\\n\\nIn October 2023 LangChain introduced LangServe, a deployment tool to host LCEL code as a production-ready API.[8]'"
      ]
     },
     "execution_count": 33,
     "metadata": {},
     "output_type": "execute_result"
    }
   ],
   "source": [
    "texts[1]"
   ]
  },
  {
   "cell_type": "code",
   "execution_count": null,
   "id": "b7ae003f-484a-47b6-8aff-e670b8503746",
   "metadata": {},
   "outputs": [],
   "source": []
  }
 ],
 "metadata": {
  "kernelspec": {
   "display_name": "Python 3 (ipykernel)",
   "language": "python",
   "name": "python3"
  },
  "language_info": {
   "codemirror_mode": {
    "name": "ipython",
    "version": 3
   },
   "file_extension": ".py",
   "mimetype": "text/x-python",
   "name": "python",
   "nbconvert_exporter": "python",
   "pygments_lexer": "ipython3",
   "version": "3.9.21"
  }
 },
 "nbformat": 4,
 "nbformat_minor": 5
}
